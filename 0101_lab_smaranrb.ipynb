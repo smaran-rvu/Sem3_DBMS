{
 "cells": [
  {
   "cell_type": "code",
   "execution_count": 4,
   "id": "b5a75efb",
   "metadata": {},
   "outputs": [],
   "source": [
    "import sqlite3 as lite \n",
    "import pandas as pd \n",
    "import os"
   ]
  },
  {
   "attachments": {},
   "cell_type": "markdown",
   "id": "4f83143e-d243-4c2a-8462-a040b0276a26",
   "metadata": {},
   "source": [
    "1. In your folder, create a database named 0101lab_\\<your folder name>.sqlite   \n",
    " \n"
   ]
  },
  {
   "cell_type": "code",
   "execution_count": 12,
   "id": "f82b15d3-ed7a-4fd5-a8b9-630e8646c30a",
   "metadata": {},
   "outputs": [],
   "source": [
    "con = lite.connect(f'0101lab_smaranrb.sqlite')"
   ]
  },
  {
   "attachments": {},
   "cell_type": "markdown",
   "id": "85eadab0-28f4-4b11-961d-8176557428e0",
   "metadata": {},
   "source": [
    "2. Create table using data from Assignments folder   \n",
    "    - 'Books' using bookset.xlsx   \n",
    "    - 'Users' using userset.xlsx   \n",
    "    - 'Ratings' using ratingset.xlsx  "
   ]
  },
  {
   "cell_type": "code",
   "execution_count": 8,
   "id": "a40e584e-0958-4ea7-a15b-e2f1eac2b3e0",
   "metadata": {},
   "outputs": [],
   "source": [
    "df1 = pd.read_excel(\"G:/.shortcut-targets-by-id/1aBWQaFQhja65Ljp3SLszLrSLfIbp0hjJ/DBMS_Course/Assignments/bookset.xlsx\")\n",
    "df2 = pd.read_excel(\"G:/.shortcut-targets-by-id/1aBWQaFQhja65Ljp3SLszLrSLfIbp0hjJ/DBMS_Course/Assignments/userset.xlsx\")\n",
    "df3 = pd.read_excel(\"G:/.shortcut-targets-by-id/1aBWQaFQhja65Ljp3SLszLrSLfIbp0hjJ/DBMS_Course/Assignments/ratingset.xlsx\")"
   ]
  },
  {
   "cell_type": "code",
   "execution_count": 13,
   "id": "1cf73cb7",
   "metadata": {},
   "outputs": [
    {
     "data": {
      "text/plain": [
       "5"
      ]
     },
     "execution_count": 13,
     "metadata": {},
     "output_type": "execute_result"
    }
   ],
   "source": [
    "df1.to_sql('books', con, index = False)\n",
    "df2.to_sql('users', con, index = False)\n",
    "df3.to_sql('ratings', con, index = False)"
   ]
  },
  {
   "attachments": {},
   "cell_type": "markdown",
   "id": "48d97a12-1ef2-4002-87f0-e57cfa736c9a",
   "metadata": {},
   "source": [
    "3. Verify that the tables have been created and contain the expected data"
   ]
  },
  {
   "cell_type": "code",
   "execution_count": 16,
   "id": "8c1d9cb8-af36-40fd-8b53-bef2849046ce",
   "metadata": {},
   "outputs": [
    {
     "data": {
      "text/html": [
       "<div>\n",
       "<style scoped>\n",
       "    .dataframe tbody tr th:only-of-type {\n",
       "        vertical-align: middle;\n",
       "    }\n",
       "\n",
       "    .dataframe tbody tr th {\n",
       "        vertical-align: top;\n",
       "    }\n",
       "\n",
       "    .dataframe thead th {\n",
       "        text-align: right;\n",
       "    }\n",
       "</style>\n",
       "<table border=\"1\" class=\"dataframe\">\n",
       "  <thead>\n",
       "    <tr style=\"text-align: right;\">\n",
       "      <th></th>\n",
       "      <th>ISBN</th>\n",
       "      <th>Book-Title</th>\n",
       "      <th>Book-Author</th>\n",
       "      <th>Year-Of-Publication</th>\n",
       "      <th>Publisher</th>\n",
       "    </tr>\n",
       "  </thead>\n",
       "  <tbody>\n",
       "    <tr>\n",
       "      <th>0</th>\n",
       "      <td>195153448</td>\n",
       "      <td>Classical Mythology</td>\n",
       "      <td>Mark P. O. Morford</td>\n",
       "      <td>2002</td>\n",
       "      <td>Oxford University Press</td>\n",
       "    </tr>\n",
       "    <tr>\n",
       "      <th>1</th>\n",
       "      <td>1841721522</td>\n",
       "      <td>New Vegetarian: Bold and Beautiful Recipes for...</td>\n",
       "      <td>Celia Brooks Brown</td>\n",
       "      <td>2001</td>\n",
       "      <td>Ryland Peters and  Small Ltd</td>\n",
       "    </tr>\n",
       "    <tr>\n",
       "      <th>2</th>\n",
       "      <td>375759778</td>\n",
       "      <td>Prague : A Novel</td>\n",
       "      <td>ARTHUR PHILLIPS</td>\n",
       "      <td>2003</td>\n",
       "      <td>Random House Trade Paperbacks</td>\n",
       "    </tr>\n",
       "    <tr>\n",
       "      <th>3</th>\n",
       "      <td>425163091</td>\n",
       "      <td>Chocolate Jesus</td>\n",
       "      <td>Stephan Jaramillo</td>\n",
       "      <td>1998</td>\n",
       "      <td>Berkley Publishing Group</td>\n",
       "    </tr>\n",
       "  </tbody>\n",
       "</table>\n",
       "</div>"
      ],
      "text/plain": [
       "         ISBN                                         Book-Title  \\\n",
       "0   195153448                                Classical Mythology   \n",
       "1  1841721522  New Vegetarian: Bold and Beautiful Recipes for...   \n",
       "2   375759778                                   Prague : A Novel   \n",
       "3   425163091                                    Chocolate Jesus   \n",
       "\n",
       "          Book-Author  Year-Of-Publication                      Publisher  \n",
       "0  Mark P. O. Morford                 2002        Oxford University Press  \n",
       "1  Celia Brooks Brown                 2001   Ryland Peters and  Small Ltd  \n",
       "2     ARTHUR PHILLIPS                 2003  Random House Trade Paperbacks  \n",
       "3   Stephan Jaramillo                 1998       Berkley Publishing Group  "
      ]
     },
     "execution_count": 16,
     "metadata": {},
     "output_type": "execute_result"
    }
   ],
   "source": [
    "# con.execute(\"select * from books\").fetchall()\n",
    "pd.read_sql(\"select * from books\", con)"
   ]
  },
  {
   "cell_type": "code",
   "execution_count": 19,
   "id": "29d43c33",
   "metadata": {},
   "outputs": [
    {
     "data": {
      "text/html": [
       "<div>\n",
       "<style scoped>\n",
       "    .dataframe tbody tr th:only-of-type {\n",
       "        vertical-align: middle;\n",
       "    }\n",
       "\n",
       "    .dataframe tbody tr th {\n",
       "        vertical-align: top;\n",
       "    }\n",
       "\n",
       "    .dataframe thead th {\n",
       "        text-align: right;\n",
       "    }\n",
       "</style>\n",
       "<table border=\"1\" class=\"dataframe\">\n",
       "  <thead>\n",
       "    <tr style=\"text-align: right;\">\n",
       "      <th></th>\n",
       "      <th>User-ID</th>\n",
       "      <th>Location</th>\n",
       "      <th>Age</th>\n",
       "    </tr>\n",
       "  </thead>\n",
       "  <tbody>\n",
       "    <tr>\n",
       "      <th>0</th>\n",
       "      <td>2</td>\n",
       "      <td>stockton, california, usa</td>\n",
       "      <td>18</td>\n",
       "    </tr>\n",
       "    <tr>\n",
       "      <th>1</th>\n",
       "      <td>4</td>\n",
       "      <td>porto, v.n.gaia, portugal</td>\n",
       "      <td>17</td>\n",
       "    </tr>\n",
       "    <tr>\n",
       "      <th>2</th>\n",
       "      <td>6</td>\n",
       "      <td>santa monica, california, usa</td>\n",
       "      <td>61</td>\n",
       "    </tr>\n",
       "    <tr>\n",
       "      <th>3</th>\n",
       "      <td>10</td>\n",
       "      <td>albacete, wisconsin, spain</td>\n",
       "      <td>26</td>\n",
       "    </tr>\n",
       "    <tr>\n",
       "      <th>4</th>\n",
       "      <td>11</td>\n",
       "      <td>melbourne, victoria, australia</td>\n",
       "      <td>14</td>\n",
       "    </tr>\n",
       "    <tr>\n",
       "      <th>5</th>\n",
       "      <td>13</td>\n",
       "      <td>barcelona, barcelona, spain</td>\n",
       "      <td>26</td>\n",
       "    </tr>\n",
       "    <tr>\n",
       "      <th>6</th>\n",
       "      <td>18</td>\n",
       "      <td>rio de janeiro, rio de janeiro, brazil</td>\n",
       "      <td>25</td>\n",
       "    </tr>\n",
       "    <tr>\n",
       "      <th>7</th>\n",
       "      <td>19</td>\n",
       "      <td>weston, ,</td>\n",
       "      <td>14</td>\n",
       "    </tr>\n",
       "    <tr>\n",
       "      <th>8</th>\n",
       "      <td>20</td>\n",
       "      <td>langhorne, pennsylvania, usa</td>\n",
       "      <td>19</td>\n",
       "    </tr>\n",
       "  </tbody>\n",
       "</table>\n",
       "</div>"
      ],
      "text/plain": [
       "   User-ID                                Location  Age\n",
       "0        2               stockton, california, usa   18\n",
       "1        4               porto, v.n.gaia, portugal   17\n",
       "2        6           santa monica, california, usa   61\n",
       "3       10              albacete, wisconsin, spain   26\n",
       "4       11          melbourne, victoria, australia   14\n",
       "5       13             barcelona, barcelona, spain   26\n",
       "6       18  rio de janeiro, rio de janeiro, brazil   25\n",
       "7       19                               weston, ,   14\n",
       "8       20            langhorne, pennsylvania, usa   19"
      ]
     },
     "execution_count": 19,
     "metadata": {},
     "output_type": "execute_result"
    }
   ],
   "source": [
    "# con.execute(\"select * from users\").fetchall()\n",
    "pd.read_sql(\"select * from users\", con)"
   ]
  },
  {
   "cell_type": "code",
   "execution_count": 18,
   "id": "264c73d4",
   "metadata": {},
   "outputs": [
    {
     "data": {
      "text/html": [
       "<div>\n",
       "<style scoped>\n",
       "    .dataframe tbody tr th:only-of-type {\n",
       "        vertical-align: middle;\n",
       "    }\n",
       "\n",
       "    .dataframe tbody tr th {\n",
       "        vertical-align: top;\n",
       "    }\n",
       "\n",
       "    .dataframe thead th {\n",
       "        text-align: right;\n",
       "    }\n",
       "</style>\n",
       "<table border=\"1\" class=\"dataframe\">\n",
       "  <thead>\n",
       "    <tr style=\"text-align: right;\">\n",
       "      <th></th>\n",
       "      <th>User-ID</th>\n",
       "      <th>ISBN</th>\n",
       "      <th>Book-Rating</th>\n",
       "    </tr>\n",
       "  </thead>\n",
       "  <tbody>\n",
       "    <tr>\n",
       "      <th>0</th>\n",
       "      <td>2</td>\n",
       "      <td>195153448</td>\n",
       "      <td>0</td>\n",
       "    </tr>\n",
       "    <tr>\n",
       "      <th>1</th>\n",
       "      <td>10</td>\n",
       "      <td>1841721522</td>\n",
       "      <td>0</td>\n",
       "    </tr>\n",
       "    <tr>\n",
       "      <th>2</th>\n",
       "      <td>10</td>\n",
       "      <td>8477024456</td>\n",
       "      <td>6</td>\n",
       "    </tr>\n",
       "    <tr>\n",
       "      <th>3</th>\n",
       "      <td>19</td>\n",
       "      <td>375759778</td>\n",
       "      <td>7</td>\n",
       "    </tr>\n",
       "    <tr>\n",
       "      <th>4</th>\n",
       "      <td>20</td>\n",
       "      <td>425163091</td>\n",
       "      <td>0</td>\n",
       "    </tr>\n",
       "  </tbody>\n",
       "</table>\n",
       "</div>"
      ],
      "text/plain": [
       "   User-ID        ISBN  Book-Rating\n",
       "0        2   195153448            0\n",
       "1       10  1841721522            0\n",
       "2       10  8477024456            6\n",
       "3       19   375759778            7\n",
       "4       20   425163091            0"
      ]
     },
     "execution_count": 18,
     "metadata": {},
     "output_type": "execute_result"
    }
   ],
   "source": [
    "# con.execute(\"select * from ratings\").fetchall()\n",
    "pd.read_sql(\"select * from ratings\", con)"
   ]
  },
  {
   "attachments": {},
   "cell_type": "markdown",
   "id": "98d317f6-7f4b-43f5-bf81-1b0f6d66394e",
   "metadata": {},
   "source": [
    "4. Repeat the above steps using in-memory database.  "
   ]
  },
  {
   "cell_type": "code",
   "execution_count": 20,
   "id": "af5b167d-bcb6-4bf7-99e0-25e6989e5107",
   "metadata": {},
   "outputs": [],
   "source": [
    "con_mem = lite.connect(\":memory:\")"
   ]
  },
  {
   "cell_type": "code",
   "execution_count": 21,
   "id": "d03e37a7",
   "metadata": {},
   "outputs": [
    {
     "data": {
      "text/plain": [
       "9"
      ]
     },
     "execution_count": 21,
     "metadata": {},
     "output_type": "execute_result"
    }
   ],
   "source": [
    "df2.to_sql('users', con_mem, index = False)"
   ]
  },
  {
   "cell_type": "code",
   "execution_count": 23,
   "id": "56187277",
   "metadata": {},
   "outputs": [
    {
     "data": {
      "text/html": [
       "<div>\n",
       "<style scoped>\n",
       "    .dataframe tbody tr th:only-of-type {\n",
       "        vertical-align: middle;\n",
       "    }\n",
       "\n",
       "    .dataframe tbody tr th {\n",
       "        vertical-align: top;\n",
       "    }\n",
       "\n",
       "    .dataframe thead th {\n",
       "        text-align: right;\n",
       "    }\n",
       "</style>\n",
       "<table border=\"1\" class=\"dataframe\">\n",
       "  <thead>\n",
       "    <tr style=\"text-align: right;\">\n",
       "      <th></th>\n",
       "      <th>User-ID</th>\n",
       "      <th>Location</th>\n",
       "      <th>Age</th>\n",
       "    </tr>\n",
       "  </thead>\n",
       "  <tbody>\n",
       "    <tr>\n",
       "      <th>0</th>\n",
       "      <td>2</td>\n",
       "      <td>stockton, california, usa</td>\n",
       "      <td>18</td>\n",
       "    </tr>\n",
       "    <tr>\n",
       "      <th>1</th>\n",
       "      <td>4</td>\n",
       "      <td>porto, v.n.gaia, portugal</td>\n",
       "      <td>17</td>\n",
       "    </tr>\n",
       "    <tr>\n",
       "      <th>2</th>\n",
       "      <td>6</td>\n",
       "      <td>santa monica, california, usa</td>\n",
       "      <td>61</td>\n",
       "    </tr>\n",
       "    <tr>\n",
       "      <th>3</th>\n",
       "      <td>10</td>\n",
       "      <td>albacete, wisconsin, spain</td>\n",
       "      <td>26</td>\n",
       "    </tr>\n",
       "    <tr>\n",
       "      <th>4</th>\n",
       "      <td>11</td>\n",
       "      <td>melbourne, victoria, australia</td>\n",
       "      <td>14</td>\n",
       "    </tr>\n",
       "    <tr>\n",
       "      <th>5</th>\n",
       "      <td>13</td>\n",
       "      <td>barcelona, barcelona, spain</td>\n",
       "      <td>26</td>\n",
       "    </tr>\n",
       "    <tr>\n",
       "      <th>6</th>\n",
       "      <td>18</td>\n",
       "      <td>rio de janeiro, rio de janeiro, brazil</td>\n",
       "      <td>25</td>\n",
       "    </tr>\n",
       "    <tr>\n",
       "      <th>7</th>\n",
       "      <td>19</td>\n",
       "      <td>weston, ,</td>\n",
       "      <td>14</td>\n",
       "    </tr>\n",
       "    <tr>\n",
       "      <th>8</th>\n",
       "      <td>20</td>\n",
       "      <td>langhorne, pennsylvania, usa</td>\n",
       "      <td>19</td>\n",
       "    </tr>\n",
       "  </tbody>\n",
       "</table>\n",
       "</div>"
      ],
      "text/plain": [
       "   User-ID                                Location  Age\n",
       "0        2               stockton, california, usa   18\n",
       "1        4               porto, v.n.gaia, portugal   17\n",
       "2        6           santa monica, california, usa   61\n",
       "3       10              albacete, wisconsin, spain   26\n",
       "4       11          melbourne, victoria, australia   14\n",
       "5       13             barcelona, barcelona, spain   26\n",
       "6       18  rio de janeiro, rio de janeiro, brazil   25\n",
       "7       19                               weston, ,   14\n",
       "8       20            langhorne, pennsylvania, usa   19"
      ]
     },
     "execution_count": 23,
     "metadata": {},
     "output_type": "execute_result"
    }
   ],
   "source": [
    "pd.read_sql_query(\"select * from users\", con_mem)"
   ]
  },
  {
   "attachments": {},
   "cell_type": "markdown",
   "id": "2a514caf-ca7c-49b8-a3a0-b4d01c831d0c",
   "metadata": {},
   "source": [
    "5. Using DB Browser, explore the table structure and write down the schema of each table in A4 sheet of paper and submit.  "
   ]
  }
 ],
 "metadata": {
  "kernelspec": {
   "display_name": "Python 3 (ipykernel)",
   "language": "python",
   "name": "python3"
  },
  "language_info": {
   "codemirror_mode": {
    "name": "ipython",
    "version": 3
   },
   "file_extension": ".py",
   "mimetype": "text/x-python",
   "name": "python",
   "nbconvert_exporter": "python",
   "pygments_lexer": "ipython3",
   "version": "3.11.5"
  }
 },
 "nbformat": 4,
 "nbformat_minor": 5
}
