{
 "cells": [
  {
   "cell_type": "code",
   "execution_count": 2,
   "id": "5815efb3",
   "metadata": {},
   "outputs": [],
   "source": [
    "import sqlite3 as lite"
   ]
  },
  {
   "cell_type": "markdown",
   "id": "af5984a2-77df-4e5e-89ce-444c77883809",
   "metadata": {},
   "source": [
    "#### 0301_Lab     \n",
    "Write a Python script using which  \n",
    "1. Create a database named `0301_Students.sqlite` in your folders.    \n",
    "2. CREATE a table named `Students` in the database   \n",
    "    students(name TEXT, USN TEXT, email TEXT, primary key(USN) )   \n",
    "3. Insert four records in the table.      \n",
    "4. Commit the changes.  \n",
    "5. Test by reading the rows. "
   ]
  },
  {
   "cell_type": "code",
   "execution_count": 3,
   "id": "be7cd208-a5fd-400d-b639-381cba9832b6",
   "metadata": {},
   "outputs": [],
   "source": [
    "con = lite.connect('0301_Students.sqlite')"
   ]
  },
  {
   "cell_type": "code",
   "execution_count": 4,
   "id": "34675d9f",
   "metadata": {},
   "outputs": [],
   "source": [
    "cur = con.cursor()"
   ]
  },
  {
   "cell_type": "code",
   "execution_count": 15,
   "id": "2add9778",
   "metadata": {},
   "outputs": [
    {
     "data": {
      "text/plain": [
       "<sqlite3.Cursor at 0x18facf036c0>"
      ]
     },
     "execution_count": 15,
     "metadata": {},
     "output_type": "execute_result"
    }
   ],
   "source": [
    "create_cmd = '''\n",
    "CREATE TABLE IF NOT EXISTS Students \n",
    "(\n",
    "    Name VARCHAR NOT NULL,\n",
    "    USN VARCHAR PRIMARY KEY,\n",
    "    Email VARCHAR NOT NULL,\n",
    "    Linux CHAR(1) CHECK (Linux in ('Y','N'))\n",
    ")\n",
    "'''\n",
    "cur.execute(create_cmd)"
   ]
  },
  {
   "cell_type": "code",
   "execution_count": 17,
   "id": "de08e05d",
   "metadata": {},
   "outputs": [
    {
     "data": {
      "text/plain": [
       "<sqlite3.Cursor at 0x18facf036c0>"
      ]
     },
     "execution_count": 17,
     "metadata": {},
     "output_type": "execute_result"
    }
   ],
   "source": [
    "list_values = [\n",
    "    ['Ubuntu', '1RVU22CSE007', 'ubuntu22@rvu.edu.in', 'Y'],\n",
    "    ['Fedora', '1RVU22CSE134', 'fedora23@rvu.edu.in', 'Y'],\n",
    "    ['Windows XP', '1RVU22CSE332', 'windowsxp@rvu.edu.in', 'N'],\n",
    "    ['MacOS Mojave', '1RVU22CSE110', 'macosmojave@rvu.edu.in', 'Y']\n",
    "]\n",
    "\n",
    "cur.executemany('INSERT INTO Students VALUES (?,?,?,?)', list_values)"
   ]
  },
  {
   "cell_type": "code",
   "execution_count": 18,
   "id": "4d4a0774",
   "metadata": {},
   "outputs": [],
   "source": [
    "con.commit()"
   ]
  },
  {
   "cell_type": "code",
   "execution_count": 19,
   "id": "bfcbf4c7",
   "metadata": {},
   "outputs": [
    {
     "data": {
      "text/plain": [
       "[('Ubuntu', '1RVU22CSE007', 'ubuntu22@rvu.edu.in', 'Y'),\n",
       " ('Fedora', '1RVU22CSE134', 'fedora23@rvu.edu.in', 'Y'),\n",
       " ('Windows XP', '1RVU22CSE332', 'windowsxp@rvu.edu.in', 'N'),\n",
       " ('MacOS Mojave', '1RVU22CSE110', 'macosmojave@rvu.edu.in', 'Y')]"
      ]
     },
     "execution_count": 19,
     "metadata": {},
     "output_type": "execute_result"
    }
   ],
   "source": [
    "cur.execute(\"SELECT * FROM Students\").fetchall()"
   ]
  },
  {
   "cell_type": "markdown",
   "id": "48650604-5ca0-4248-af17-aa46c483c29e",
   "metadata": {},
   "source": [
    "6. Update the table replacing the RVU email ID with your private email ID.  \n",
    "7. Read and display all the data from sqlite_master  \n",
    "8. Read and display table_info using PRAGMA"
   ]
  },
  {
   "cell_type": "code",
   "execution_count": 20,
   "id": "b3136494-08d0-440c-bb67-9d417df961a5",
   "metadata": {},
   "outputs": [
    {
     "data": {
      "text/plain": [
       "<sqlite3.Cursor at 0x18facf036c0>"
      ]
     },
     "execution_count": 20,
     "metadata": {},
     "output_type": "execute_result"
    }
   ],
   "source": [
    "update_cmd = f'''\n",
    "UPDATE STUDENTS \n",
    "SET EMAIL = 'ubuntu@ubuntu.com'\n",
    "WHERE NAME LIKE 'Ubuntu'\n",
    "'''\n",
    "\n",
    "cur.execute(update_cmd)"
   ]
  },
  {
   "cell_type": "code",
   "execution_count": 21,
   "id": "f53f57c3",
   "metadata": {},
   "outputs": [],
   "source": [
    "con.commit()"
   ]
  },
  {
   "cell_type": "code",
   "execution_count": 22,
   "id": "bafcffa7",
   "metadata": {},
   "outputs": [
    {
     "data": {
      "text/plain": [
       "[('Ubuntu', '1RVU22CSE007', 'ubuntu@ubuntu.com', 'Y'),\n",
       " ('Fedora', '1RVU22CSE134', 'fedora23@rvu.edu.in', 'Y'),\n",
       " ('Windows XP', '1RVU22CSE332', 'windowsxp@rvu.edu.in', 'N'),\n",
       " ('MacOS Mojave', '1RVU22CSE110', 'macosmojave@rvu.edu.in', 'Y')]"
      ]
     },
     "execution_count": 22,
     "metadata": {},
     "output_type": "execute_result"
    }
   ],
   "source": [
    "cur.execute(\"SELECT * FROM Students\").fetchall()"
   ]
  },
  {
   "cell_type": "code",
   "execution_count": 1,
   "id": "af30e129",
   "metadata": {},
   "outputs": [],
   "source": [
    "import pandas as pd"
   ]
  },
  {
   "cell_type": "code",
   "execution_count": 7,
   "id": "c00c8678",
   "metadata": {},
   "outputs": [
    {
     "data": {
      "text/html": [
       "<div>\n",
       "<style scoped>\n",
       "    .dataframe tbody tr th:only-of-type {\n",
       "        vertical-align: middle;\n",
       "    }\n",
       "\n",
       "    .dataframe tbody tr th {\n",
       "        vertical-align: top;\n",
       "    }\n",
       "\n",
       "    .dataframe thead th {\n",
       "        text-align: right;\n",
       "    }\n",
       "</style>\n",
       "<table border=\"1\" class=\"dataframe\">\n",
       "  <thead>\n",
       "    <tr style=\"text-align: right;\">\n",
       "      <th></th>\n",
       "      <th>type</th>\n",
       "      <th>name</th>\n",
       "      <th>tbl_name</th>\n",
       "      <th>rootpage</th>\n",
       "      <th>sql</th>\n",
       "    </tr>\n",
       "  </thead>\n",
       "  <tbody>\n",
       "    <tr>\n",
       "      <th>0</th>\n",
       "      <td>table</td>\n",
       "      <td>Students</td>\n",
       "      <td>Students</td>\n",
       "      <td>2</td>\n",
       "      <td>CREATE TABLE Students \\n(\\n    Name VARCHAR NO...</td>\n",
       "    </tr>\n",
       "  </tbody>\n",
       "</table>\n",
       "</div>"
      ],
      "text/plain": [
       "    type      name  tbl_name  rootpage  \\\n",
       "0  table  Students  Students         2   \n",
       "\n",
       "                                                 sql  \n",
       "0  CREATE TABLE Students \\n(\\n    Name VARCHAR NO...  "
      ]
     },
     "execution_count": 7,
     "metadata": {},
     "output_type": "execute_result"
    }
   ],
   "source": [
    "pd.read_sql(\"SELECT * FROM sqlite_master\", con)"
   ]
  },
  {
   "cell_type": "code",
   "execution_count": 16,
   "id": "62fe144b",
   "metadata": {},
   "outputs": [
    {
     "data": {
      "text/html": [
       "<div>\n",
       "<style scoped>\n",
       "    .dataframe tbody tr th:only-of-type {\n",
       "        vertical-align: middle;\n",
       "    }\n",
       "\n",
       "    .dataframe tbody tr th {\n",
       "        vertical-align: top;\n",
       "    }\n",
       "\n",
       "    .dataframe thead th {\n",
       "        text-align: right;\n",
       "    }\n",
       "</style>\n",
       "<table border=\"1\" class=\"dataframe\">\n",
       "  <thead>\n",
       "    <tr style=\"text-align: right;\">\n",
       "      <th></th>\n",
       "      <th>cid</th>\n",
       "      <th>name</th>\n",
       "      <th>type</th>\n",
       "      <th>notnull</th>\n",
       "      <th>dflt_value</th>\n",
       "      <th>pk</th>\n",
       "    </tr>\n",
       "  </thead>\n",
       "  <tbody>\n",
       "    <tr>\n",
       "      <th>0</th>\n",
       "      <td>0</td>\n",
       "      <td>Name</td>\n",
       "      <td>VARCHAR</td>\n",
       "      <td>1</td>\n",
       "      <td>None</td>\n",
       "      <td>0</td>\n",
       "    </tr>\n",
       "    <tr>\n",
       "      <th>1</th>\n",
       "      <td>1</td>\n",
       "      <td>USN</td>\n",
       "      <td>VARCHAR</td>\n",
       "      <td>0</td>\n",
       "      <td>None</td>\n",
       "      <td>1</td>\n",
       "    </tr>\n",
       "    <tr>\n",
       "      <th>2</th>\n",
       "      <td>2</td>\n",
       "      <td>Email</td>\n",
       "      <td>VARCHAR</td>\n",
       "      <td>1</td>\n",
       "      <td>None</td>\n",
       "      <td>0</td>\n",
       "    </tr>\n",
       "    <tr>\n",
       "      <th>3</th>\n",
       "      <td>3</td>\n",
       "      <td>Linux</td>\n",
       "      <td>CHAR(1)</td>\n",
       "      <td>0</td>\n",
       "      <td>None</td>\n",
       "      <td>0</td>\n",
       "    </tr>\n",
       "  </tbody>\n",
       "</table>\n",
       "</div>"
      ],
      "text/plain": [
       "   cid   name     type  notnull dflt_value  pk\n",
       "0    0   Name  VARCHAR        1       None   0\n",
       "1    1    USN  VARCHAR        0       None   1\n",
       "2    2  Email  VARCHAR        1       None   0\n",
       "3    3  Linux  CHAR(1)        0       None   0"
      ]
     },
     "execution_count": 16,
     "metadata": {},
     "output_type": "execute_result"
    }
   ],
   "source": [
    "pd.read_sql(\"PRAGMA TABLE_INFO (Students)\", con)"
   ]
  },
  {
   "cell_type": "markdown",
   "id": "edf1c5aa-1fe3-4762-8cb3-5fa5e207409b",
   "metadata": {},
   "source": [
    "9. For the tables below, create ERD diagram, export it as `0301_ERD.svg` and save in your folder.\n",
    "\n",
    "```\n",
    "CREATE TABLE Scores(\n",
    "               FUSN Text,\n",
    "               course_ID Integer, \n",
    "               FOREIGN KEY(FUSN) REFERENCES Student(FUSN), \n",
    "               FOREIGN KEY(course_ID) REFERENCES Course(course_ID), \n",
    "               Score Int, \n",
    "               Primary Key(FUSN, course_ID) \n",
    "              );\n",
    "```\n",
    "\n"
   ]
  }
 ],
 "metadata": {
  "kernelspec": {
   "display_name": "Python 3 (ipykernel)",
   "language": "python",
   "name": "python3"
  },
  "language_info": {
   "codemirror_mode": {
    "name": "ipython",
    "version": 3
   },
   "file_extension": ".py",
   "mimetype": "text/x-python",
   "name": "python",
   "nbconvert_exporter": "python",
   "pygments_lexer": "ipython3",
   "version": "3.11.3"
  }
 },
 "nbformat": 4,
 "nbformat_minor": 5
}
