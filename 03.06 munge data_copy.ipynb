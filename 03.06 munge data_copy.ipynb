{
 "cells": [
  {
   "cell_type": "code",
   "execution_count": 2,
   "id": "97a1df60-9fc9-491b-9828-d92b5a32af10",
   "metadata": {
    "tags": []
   },
   "outputs": [],
   "source": [
    "import sqlite3 as lite\n",
    "import pandas as pd"
   ]
  },
  {
   "cell_type": "code",
   "execution_count": 4,
   "id": "a1644b27-4c29-4dcd-aa7e-fc7e560350d9",
   "metadata": {
    "tags": []
   },
   "outputs": [
    {
     "data": {
      "text/plain": [
       "Index(['USN', 'Name', 'Email', 'Section', 'Sex', 'DoB', 'Height_cm',\n",
       "       'Weight_Kg', 'Home_State', 'Home_Town', 'Mother_Tongue', 'Elective',\n",
       "       'Clubs'],\n",
       "      dtype='object')"
      ]
     },
     "execution_count": 4,
     "metadata": {},
     "output_type": "execute_result"
    }
   ],
   "source": [
    "df_ = pd.read_excel('../Data/BTech22 Data.xlsx')\n",
    "\n",
    "df_ = df_.fillna('unknown')\n",
    "df = df_[df_.Sex != 'unknown']\n",
    "df.columns"
   ]
  },
  {
   "cell_type": "code",
   "execution_count": 5,
   "id": "9007871f-413a-4727-acc6-e3398f549cd8",
   "metadata": {
    "tags": []
   },
   "outputs": [],
   "source": [
    "con = lite.connect(\":memory:\") "
   ]
  },
  {
   "cell_type": "code",
   "execution_count": 6,
   "id": "8ff4bb9f-fd00-41af-a2b7-52c7f3f8b300",
   "metadata": {
    "tags": []
   },
   "outputs": [],
   "source": [
    "sql = \"\"\"\n",
    "CREATE TABLE Students(\n",
    "   'USN' TEXT PRIMARY KEY, \n",
    "   'Name' TEXT, \n",
    "   'Email' TEXT UNIQUE, \n",
    "   'Section' TEXT, \n",
    "   'Sex' TEXT, \n",
    "   'DoB' TEXT, \n",
    "   'Height_cm' INT,\n",
    "   'Weight_Kg' INT, \n",
    "   'Home_State' TEXT, \n",
    "   'Home_Town' TEXT, \n",
    "   'Mother_Tongue' TEXT, \n",
    "   'Elective' TEXT,\n",
    "   'Clubs' TEXT\n",
    ")\n",
    "\"\"\"\n",
    "con.execute(sql)\n",
    "con.commit()"
   ]
  },
  {
   "cell_type": "code",
   "execution_count": 7,
   "id": "61345d58-22b0-4965-bed5-9891e6b1ba75",
   "metadata": {
    "tags": []
   },
   "outputs": [
    {
     "data": {
      "text/html": [
       "<div>\n",
       "<style scoped>\n",
       "    .dataframe tbody tr th:only-of-type {\n",
       "        vertical-align: middle;\n",
       "    }\n",
       "\n",
       "    .dataframe tbody tr th {\n",
       "        vertical-align: top;\n",
       "    }\n",
       "\n",
       "    .dataframe thead th {\n",
       "        text-align: right;\n",
       "    }\n",
       "</style>\n",
       "<table border=\"1\" class=\"dataframe\">\n",
       "  <thead>\n",
       "    <tr style=\"text-align: right;\">\n",
       "      <th></th>\n",
       "      <th>type</th>\n",
       "      <th>name</th>\n",
       "      <th>tbl_name</th>\n",
       "    </tr>\n",
       "  </thead>\n",
       "  <tbody>\n",
       "    <tr>\n",
       "      <th>0</th>\n",
       "      <td>table</td>\n",
       "      <td>Students</td>\n",
       "      <td>Students</td>\n",
       "    </tr>\n",
       "    <tr>\n",
       "      <th>1</th>\n",
       "      <td>index</td>\n",
       "      <td>sqlite_autoindex_Students_1</td>\n",
       "      <td>Students</td>\n",
       "    </tr>\n",
       "    <tr>\n",
       "      <th>2</th>\n",
       "      <td>index</td>\n",
       "      <td>sqlite_autoindex_Students_2</td>\n",
       "      <td>Students</td>\n",
       "    </tr>\n",
       "  </tbody>\n",
       "</table>\n",
       "</div>"
      ],
      "text/plain": [
       "    type                         name  tbl_name\n",
       "0  table                     Students  Students\n",
       "1  index  sqlite_autoindex_Students_1  Students\n",
       "2  index  sqlite_autoindex_Students_2  Students"
      ]
     },
     "execution_count": 7,
     "metadata": {},
     "output_type": "execute_result"
    }
   ],
   "source": [
    "pd.read_sql(\"SELECT * FROM sqlite_master\", con)[['type','name','tbl_name']]"
   ]
  },
  {
   "cell_type": "markdown",
   "id": "de55ce4c-58db-4c51-a8b3-7033e7de944a",
   "metadata": {},
   "source": [
    "#### SQLite automatically creates two types of indexes:  \n",
    "\n",
    "1. Internal indexes are created for all **UNIQUE** and **PRIMARY KEY** constraints and permanently added to the DB.   \n",
    "2. Temporary indexes are created on a per-query basis,  \n",
    "    if it is faster to create the index in RAM first and use it to speed up the original query.  \n"
   ]
  },
  {
   "cell_type": "code",
   "execution_count": 8,
   "id": "5b191a1b-4cee-4a0f-af94-18cb71b4c64a",
   "metadata": {
    "tags": []
   },
   "outputs": [],
   "source": [
    "df.to_sql('Students', con, if_exists='append', index=False)\n",
    "con.commit()"
   ]
  },
  {
   "cell_type": "markdown",
   "id": "59d5a4b0-c6d6-4f55-b12d-a440ea651270",
   "metadata": {},
   "source": [
    "##### Distinct values in `Sex` field"
   ]
  },
  {
   "cell_type": "code",
   "execution_count": 15,
   "id": "6b82b98c-7bbe-4009-ae3f-bb927d9b660f",
   "metadata": {
    "tags": []
   },
   "outputs": [
    {
     "data": {
      "text/html": [
       "<div>\n",
       "<style scoped>\n",
       "    .dataframe tbody tr th:only-of-type {\n",
       "        vertical-align: middle;\n",
       "    }\n",
       "\n",
       "    .dataframe tbody tr th {\n",
       "        vertical-align: top;\n",
       "    }\n",
       "\n",
       "    .dataframe thead th {\n",
       "        text-align: right;\n",
       "    }\n",
       "</style>\n",
       "<table border=\"1\" class=\"dataframe\">\n",
       "  <thead>\n",
       "    <tr style=\"text-align: right;\">\n",
       "      <th></th>\n",
       "      <th>Sex</th>\n",
       "    </tr>\n",
       "  </thead>\n",
       "  <tbody>\n",
       "    <tr>\n",
       "      <th>0</th>\n",
       "      <td>F</td>\n",
       "    </tr>\n",
       "    <tr>\n",
       "      <th>1</th>\n",
       "      <td>M</td>\n",
       "    </tr>\n",
       "  </tbody>\n",
       "</table>\n",
       "</div>"
      ],
      "text/plain": [
       "  Sex\n",
       "0   F\n",
       "1   M"
      ]
     },
     "execution_count": 15,
     "metadata": {},
     "output_type": "execute_result"
    }
   ],
   "source": [
    "sql = \"\"\"\n",
    "SELECT DISTINCT Sex FROM Students\n",
    "\"\"\"\n",
    "pd.read_sql(sql, con)"
   ]
  },
  {
   "cell_type": "markdown",
   "id": "7385ee7d-c702-46e8-ac58-34e02331fc06",
   "metadata": {},
   "source": [
    "##### Unify the data  \n",
    "1. remove leadning and trailing spaces   \n",
    "2. convert the contents of the field to UPPER CASE\n",
    "3. set the first character ('F' or 'M') as the value  "
   ]
  },
  {
   "cell_type": "code",
   "execution_count": 14,
   "id": "2ee3cc64-20e8-4e30-bc0e-455739398c50",
   "metadata": {
    "tags": []
   },
   "outputs": [],
   "source": [
    "# https://www.sqlitetutorial.net/sqlite-string-functions/\n",
    "\n",
    "sql1 = \"\"\"\n",
    "    UPDATE Students \n",
    "    SET Sex = TRIM(Sex)    \n",
    "\"\"\"\n",
    "\n",
    "sql2 = \"\"\"\n",
    "    UPDATE Students \n",
    "    SET\n",
    "     Sex = UPPER(Sex);\n",
    "\"\"\"\n",
    "\n",
    "sql3 = \"\"\"\n",
    "    UPDATE Students \n",
    "    SET\n",
    "     Sex = SUBSTR(Sex, 1, 1)\n",
    "\"\"\"\n",
    "\n",
    "# con.execute(sql1)   # 10 to 6 variations  \n",
    "# con.execute(sql2)   #  6 to 3 variations\n",
    "con.execute(sql3)   #  3 to 2 variations \n",
    "con.commit()\n",
    " "
   ]
  },
  {
   "cell_type": "markdown",
   "id": "b910d5e6-d747-4a0a-8281-1e1223aa8ac1",
   "metadata": {},
   "source": [
    "#### Munge State Names   "
   ]
  },
  {
   "cell_type": "code",
   "execution_count": 16,
   "id": "b27ed151-65c9-4391-a127-d1be974ae99a",
   "metadata": {
    "tags": []
   },
   "outputs": [
    {
     "data": {
      "text/html": [
       "<div>\n",
       "<style scoped>\n",
       "    .dataframe tbody tr th:only-of-type {\n",
       "        vertical-align: middle;\n",
       "    }\n",
       "\n",
       "    .dataframe tbody tr th {\n",
       "        vertical-align: top;\n",
       "    }\n",
       "\n",
       "    .dataframe thead th {\n",
       "        text-align: right;\n",
       "    }\n",
       "</style>\n",
       "<table border=\"1\" class=\"dataframe\">\n",
       "  <thead>\n",
       "    <tr style=\"text-align: right;\">\n",
       "      <th></th>\n",
       "      <th>Home_State</th>\n",
       "    </tr>\n",
       "  </thead>\n",
       "  <tbody>\n",
       "    <tr>\n",
       "      <th>0</th>\n",
       "      <td>Karnataka</td>\n",
       "    </tr>\n",
       "    <tr>\n",
       "      <th>1</th>\n",
       "      <td>unknown</td>\n",
       "    </tr>\n",
       "    <tr>\n",
       "      <th>2</th>\n",
       "      <td>Karnataka</td>\n",
       "    </tr>\n",
       "    <tr>\n",
       "      <th>3</th>\n",
       "      <td>Jammu</td>\n",
       "    </tr>\n",
       "    <tr>\n",
       "      <th>4</th>\n",
       "      <td>Haryana</td>\n",
       "    </tr>\n",
       "    <tr>\n",
       "      <th>5</th>\n",
       "      <td>karnataka</td>\n",
       "    </tr>\n",
       "    <tr>\n",
       "      <th>6</th>\n",
       "      <td>Delhi</td>\n",
       "    </tr>\n",
       "    <tr>\n",
       "      <th>7</th>\n",
       "      <td>karnataka</td>\n",
       "    </tr>\n",
       "    <tr>\n",
       "      <th>8</th>\n",
       "      <td>West Bengal</td>\n",
       "    </tr>\n",
       "    <tr>\n",
       "      <th>9</th>\n",
       "      <td>Andhra Pradesh</td>\n",
       "    </tr>\n",
       "    <tr>\n",
       "      <th>10</th>\n",
       "      <td>Telangana</td>\n",
       "    </tr>\n",
       "    <tr>\n",
       "      <th>11</th>\n",
       "      <td>Punjab</td>\n",
       "    </tr>\n",
       "    <tr>\n",
       "      <th>12</th>\n",
       "      <td>Goa</td>\n",
       "    </tr>\n",
       "    <tr>\n",
       "      <th>13</th>\n",
       "      <td>Uttar Pradesh</td>\n",
       "    </tr>\n",
       "    <tr>\n",
       "      <th>14</th>\n",
       "      <td>Rajasthan</td>\n",
       "    </tr>\n",
       "    <tr>\n",
       "      <th>15</th>\n",
       "      <td>Tamil Nadu</td>\n",
       "    </tr>\n",
       "    <tr>\n",
       "      <th>16</th>\n",
       "      <td>Bihar</td>\n",
       "    </tr>\n",
       "    <tr>\n",
       "      <th>17</th>\n",
       "      <td>Nil</td>\n",
       "    </tr>\n",
       "    <tr>\n",
       "      <th>18</th>\n",
       "      <td>Andhra Pradesh</td>\n",
       "    </tr>\n",
       "    <tr>\n",
       "      <th>19</th>\n",
       "      <td>Uttar Pradesh</td>\n",
       "    </tr>\n",
       "    <tr>\n",
       "      <th>20</th>\n",
       "      <td>KARNATAKA</td>\n",
       "    </tr>\n",
       "    <tr>\n",
       "      <th>21</th>\n",
       "      <td>karntaka</td>\n",
       "    </tr>\n",
       "    <tr>\n",
       "      <th>22</th>\n",
       "      <td>Gujarat</td>\n",
       "    </tr>\n",
       "    <tr>\n",
       "      <th>23</th>\n",
       "      <td>Jharkhand</td>\n",
       "    </tr>\n",
       "    <tr>\n",
       "      <th>24</th>\n",
       "      <td>Rajasthan</td>\n",
       "    </tr>\n",
       "    <tr>\n",
       "      <th>25</th>\n",
       "      <td>KARnataka</td>\n",
       "    </tr>\n",
       "    <tr>\n",
       "      <th>26</th>\n",
       "      <td>Punjab</td>\n",
       "    </tr>\n",
       "    <tr>\n",
       "      <th>27</th>\n",
       "      <td>Karantaka</td>\n",
       "    </tr>\n",
       "  </tbody>\n",
       "</table>\n",
       "</div>"
      ],
      "text/plain": [
       "         Home_State\n",
       "0        Karnataka \n",
       "1           unknown\n",
       "2         Karnataka\n",
       "3             Jammu\n",
       "4           Haryana\n",
       "5        karnataka \n",
       "6             Delhi\n",
       "7         karnataka\n",
       "8       West Bengal\n",
       "9    Andhra Pradesh\n",
       "10        Telangana\n",
       "11           Punjab\n",
       "12              Goa\n",
       "13    Uttar Pradesh\n",
       "14       Rajasthan \n",
       "15       Tamil Nadu\n",
       "16            Bihar\n",
       "17             Nil \n",
       "18  Andhra Pradesh \n",
       "19   Uttar Pradesh \n",
       "20        KARNATAKA\n",
       "21         karntaka\n",
       "22          Gujarat\n",
       "23        Jharkhand\n",
       "24        Rajasthan\n",
       "25        KARnataka\n",
       "26          Punjab \n",
       "27        Karantaka"
      ]
     },
     "execution_count": 16,
     "metadata": {},
     "output_type": "execute_result"
    }
   ],
   "source": [
    "sql = \"\"\"\n",
    "SELECT DISTINCT Home_State FROM Students\n",
    "\"\"\"\n",
    "pd.read_sql(sql, con)"
   ]
  },
  {
   "cell_type": "code",
   "execution_count": 32,
   "id": "2f53c506-c9c0-4a5e-bb41-e7ee9801d3e4",
   "metadata": {
    "tags": []
   },
   "outputs": [],
   "source": [
    "# ['Karnataka','karnataka','KARNATAKA','karntaka','KARnataka','Karantaka')\n",
    "\n",
    "sql1 = \"\"\"\n",
    "    UPDATE Students \n",
    "    SET Home_State = TRIM(Home_State)    \n",
    "\"\"\"\n",
    "\n",
    "sql2 = \"\"\"\n",
    "    UPDATE Students \n",
    "    SET Home_State = 'Karnataka'\n",
    "    WHERE Home_State IN \n",
    "    ('karnataka','KARNATAKA','karntaka','KARnataka','Karantaka')\n",
    "\"\"\"\n",
    "\n",
    "sql3 = \"\"\"\n",
    "    UPDATE Students \n",
    "    SET Home_State = 'unknown'\n",
    "    WHERE Home_State = 'Nil'\n",
    "\"\"\"\n",
    "\n",
    "# con.execute(sql1)     # 28 to 22\n",
    "# con.execute(sql2)     # 22 to 17\n",
    "# con.execute(sql3)     # 17 to 16\n",
    "con.commit()\n",
    " "
   ]
  },
  {
   "cell_type": "markdown",
   "id": "77e2ab51-02fa-4020-84e3-f00fdb18ae36",
   "metadata": {},
   "source": [
    "##### Task   \n",
    "Cleanse other categorical data in the table.    \n",
    "Create look-up tables (aka master tables) for states, towns, and languages.  \n",
    "See [RTO Codes](https://www.v3cars.com/car-guide/state-code-regional-transport-office-rto-india) and \n",
    "Census Codes for [States and Cities](https://censusindia.gov.in/nada/index.php/catalog/42648) and \n",
    "[Language Codes](https://censusindia.gov.in/nada/index.php/catalog/42561)  \n",
    "Use standard codes or abbreviations as PK.  \n",
    "\n",
    "Create tables for electives and clubs.  \n",
    "Their PK may be auto-incremented.  "
   ]
  },
  {
   "cell_type": "code",
   "execution_count": null,
   "id": "ca90e12f-0434-4029-9e2f-456dd3f9b64e",
   "metadata": {},
   "outputs": [],
   "source": []
  }
 ],
 "metadata": {
  "kernelspec": {
   "display_name": "Python 3 (ipykernel)",
   "language": "python",
   "name": "python3"
  },
  "language_info": {
   "codemirror_mode": {
    "name": "ipython",
    "version": 3
   },
   "file_extension": ".py",
   "mimetype": "text/x-python",
   "name": "python",
   "nbconvert_exporter": "python",
   "pygments_lexer": "ipython3",
   "version": "3.11.4"
  }
 },
 "nbformat": 4,
 "nbformat_minor": 5
}
