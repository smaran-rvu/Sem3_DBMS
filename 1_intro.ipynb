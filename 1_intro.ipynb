{
 "cells": [
  {
   "cell_type": "code",
   "execution_count": 1,
   "metadata": {},
   "outputs": [],
   "source": [
    "import sqlite3 as lite\n",
    "import os\n",
    "import pandas as pd"
   ]
  },
  {
   "attachments": {},
   "cell_type": "markdown",
   "metadata": {},
   "source": [
    "RDBMS - Relational Database Management System\n",
    "\n",
    "SQL - Structured Query Language"
   ]
  },
  {
   "cell_type": "markdown",
   "metadata": {},
   "source": [
    "DB Browser for SQLite\n",
    "Lucid Chart\n"
   ]
  },
  {
   "attachments": {},
   "cell_type": "markdown",
   "metadata": {},
   "source": [
    "# SQLite\n",
    "\n",
    "Backstory...\n",
    "It was invented for military uses as a small, fast database to be used in weapon systems\n",
    "\n",
    "It later got implemented in mobile hardware and other embedded systems due to its effeciency and speed\n",
    "\n"
   ]
  },
  {
   "attachments": {},
   "cell_type": "markdown",
   "metadata": {},
   "source": [
    "### Create/Load Database"
   ]
  },
  {
   "cell_type": "code",
   "execution_count": 2,
   "metadata": {},
   "outputs": [],
   "source": [
    "con = lite.connect(f'BTech22_smaranrb.sqlite')"
   ]
  },
  {
   "cell_type": "code",
   "execution_count": 4,
   "metadata": {},
   "outputs": [],
   "source": [
    "con.close()"
   ]
  },
  {
   "cell_type": "markdown",
   "metadata": {},
   "source": [
    "#### Note:"
   ]
  },
  {
   "cell_type": "code",
   "execution_count": null,
   "metadata": {},
   "outputs": [],
   "source": [
    "con_mem = lite.connect(\":memory:\")\n",
    "\n",
    "(pd.read_excel(\"../BTech22.xlsx\")\n",
    "    .head()\n",
    "    .to_sql(\"Smaran\", con_mem index = False))"
   ]
  },
  {
   "cell_type": "markdown",
   "metadata": {},
   "source": [
    "## Execute Queries:"
   ]
  },
  {
   "cell_type": "markdown",
   "metadata": {},
   "source": [
    "##### Using con.execute"
   ]
  },
  {
   "cell_type": "code",
   "execution_count": null,
   "metadata": {},
   "outputs": [],
   "source": [
    "query = \"SELECT * FROM {table_name}\"\n",
    "\n",
    "return_table = con.execute(query) # This is a python Generator datatype\n",
    "\n",
    "return_table.fetchone() # Read one rows\n",
    "return_table.fetchall() # Read all rows\n"
   ]
  },
  {
   "cell_type": "markdown",
   "metadata": {},
   "source": [
    "Using pd.read_sql / read_sql_query"
   ]
  },
  {
   "cell_type": "code",
   "execution_count": null,
   "metadata": {},
   "outputs": [],
   "source": [
    "pd.read_sql_query(query, com) # Returns a dataframe"
   ]
  },
  {
   "cell_type": "code",
   "execution_count": null,
   "metadata": {},
   "outputs": [],
   "source": [
    "query = ''' insert into table values (?, ?, ?, ?, ?)'''\n",
    "con.executemany(query, list_of_data)\n",
    "\n",
    "con.commit()"
   ]
  },
  {
   "cell_type": "code",
   "execution_count": null,
   "metadata": {},
   "outputs": [],
   "source": [
    "query"
   ]
  },
  {
   "cell_type": "code",
   "execution_count": 1,
   "metadata": {},
   "outputs": [],
   "source": [
    "import sqlite_dump"
   ]
  },
  {
   "cell_type": "code",
   "execution_count": null,
   "metadata": {},
   "outputs": [],
   "source": [
    "with lite.connect(\"<path>\") as con:\n",
    "    with open('<path of file>.sql', 'w') as f_out:\n",
    "        for line in con.iterdump():\n",
    "            f_out.erite(f'{line}\\n')"
   ]
  },
  {
   "cell_type": "code",
   "execution_count": null,
   "metadata": {},
   "outputs": [],
   "source": [
    "open(\"<path>\").readlines() # contents of files in list pf strings \n",
    "open(\"<path>\").read() # contents of file in one single string "
   ]
  },
  {
   "cell_type": "code",
   "execution_count": null,
   "metadata": {},
   "outputs": [],
   "source": [
    "import csv"
   ]
  },
  {
   "cell_type": "code",
   "execution_count": null,
   "metadata": {},
   "outputs": [],
   "source": [
    "file = open('<filename>.csv')\n",
    "contents = list(csv.reader(file))\n",
    "\n",
    "# Size of contents\n",
    "print(np.shape(contents), contents, sep = \"\\n\")"
   ]
  },
  {
   "cell_type": "code",
   "execution_count": null,
   "metadata": {},
   "outputs": [],
   "source": [
    "sql_insert_csv = \"\"\"\n",
    "INSERT INTO <TABLE> \n",
    "VALUES (?,?,...)\n",
    "\"\"\"\n",
    "con.execute(sql_insert_csv, contents)"
   ]
  },
  {
   "cell_type": "code",
   "execution_count": 3,
   "metadata": {},
   "outputs": [],
   "source": [
    "from sqlite_dump import iterdump"
   ]
  },
  {
   "cell_type": "code",
   "execution_count": 7,
   "metadata": {},
   "outputs": [],
   "source": [
    "try:\n",
    "    with open('BTech22_backup.txt', 'w') as wtxt:\n",
    "        wtxt.writelines(list(iterdump(con)))\n",
    "except:\n",
    "    pass"
   ]
  },
  {
   "cell_type": "markdown",
   "metadata": {},
   "source": [
    "## SQL String Functions"
   ]
  },
  {
   "cell_type": "code",
   "execution_count": null,
   "metadata": {},
   "outputs": [],
   "source": [
    "f'''\n",
    "TRIM({field}) - strip() function - trim out all the extra spaces on the left and right ends of the sring \n",
    "    LTRIM() - lstrip()\n",
    "    RTRIM() - rstrip()\n",
    "\n",
    "UPPER({field}) - upper() function\n",
    "\n",
    "SUBSTR({field, x, y}) - \n",
    "\n",
    "'''"
   ]
  },
  {
   "cell_type": "markdown",
   "metadata": {},
   "source": [
    "### For temporary presentation purposes, hange the values of a column using if else"
   ]
  },
  {
   "cell_type": "code",
   "execution_count": null,
   "metadata": {},
   "outputs": [
    {
     "data": {
      "text/html": [
       "<div>\n",
       "<style scoped>\n",
       "    .dataframe tbody tr th:only-of-type {\n",
       "        vertical-align: middle;\n",
       "    }\n",
       "\n",
       "    .dataframe tbody tr th {\n",
       "        vertical-align: top;\n",
       "    }\n",
       "\n",
       "    .dataframe thead th {\n",
       "        text-align: right;\n",
       "    }\n",
       "</style>\n",
       "<table border=\"1\" class=\"dataframe\">\n",
       "  <thead>\n",
       "    <tr style=\"text-align: right;\">\n",
       "      <th></th>\n",
       "      <th>Name</th>\n",
       "      <th>Section</th>\n",
       "      <th>sex</th>\n",
       "      <th>Height_cm</th>\n",
       "      <th>Weight_Kg</th>\n",
       "    </tr>\n",
       "  </thead>\n",
       "  <tbody>\n",
       "    <tr>\n",
       "      <th>0</th>\n",
       "      <td>SHREE VYSHNAVI A</td>\n",
       "      <td>B</td>\n",
       "      <td>Girl</td>\n",
       "      <td>158</td>\n",
       "      <td>56</td>\n",
       "    </tr>\n",
       "    <tr>\n",
       "      <th>1</th>\n",
       "      <td>AARON ARTHUR ELISHA</td>\n",
       "      <td>A</td>\n",
       "      <td>Boy</td>\n",
       "      <td>183</td>\n",
       "      <td>76</td>\n",
       "    </tr>\n",
       "    <tr>\n",
       "      <th>2</th>\n",
       "      <td>ABHISHEK</td>\n",
       "      <td>A</td>\n",
       "      <td>Boy</td>\n",
       "      <td>181</td>\n",
       "      <td>56</td>\n",
       "    </tr>\n",
       "    <tr>\n",
       "      <th>3</th>\n",
       "      <td>ABRAR HUSSAIN</td>\n",
       "      <td>B</td>\n",
       "      <td>Boy</td>\n",
       "      <td>182</td>\n",
       "      <td>69</td>\n",
       "    </tr>\n",
       "    <tr>\n",
       "      <th>4</th>\n",
       "      <td>ADITI A</td>\n",
       "      <td>B</td>\n",
       "      <td>Girl</td>\n",
       "      <td>157</td>\n",
       "      <td>61</td>\n",
       "    </tr>\n",
       "    <tr>\n",
       "      <th>5</th>\n",
       "      <td>ADITYA GARG</td>\n",
       "      <td>C</td>\n",
       "      <td>Boy</td>\n",
       "      <td>182</td>\n",
       "      <td>60</td>\n",
       "    </tr>\n",
       "    <tr>\n",
       "      <th>6</th>\n",
       "      <td>ADITYA ADUKURI</td>\n",
       "      <td>B</td>\n",
       "      <td>Boy</td>\n",
       "      <td>171</td>\n",
       "      <td>75</td>\n",
       "    </tr>\n",
       "    <tr>\n",
       "      <th>7</th>\n",
       "      <td>ADITYA KUSHAL</td>\n",
       "      <td>A</td>\n",
       "      <td>Boy</td>\n",
       "      <td>176</td>\n",
       "      <td>61</td>\n",
       "    </tr>\n",
       "    <tr>\n",
       "      <th>8</th>\n",
       "      <td>ADITYA P</td>\n",
       "      <td>A</td>\n",
       "      <td>Boy</td>\n",
       "      <td>170</td>\n",
       "      <td>55</td>\n",
       "    </tr>\n",
       "    <tr>\n",
       "      <th>9</th>\n",
       "      <td>ADITYA RAJU A</td>\n",
       "      <td>A</td>\n",
       "      <td>Boy</td>\n",
       "      <td>172</td>\n",
       "      <td>75</td>\n",
       "    </tr>\n",
       "  </tbody>\n",
       "</table>\n",
       "</div>"
      ],
      "text/plain": [
       "                  Name Section   sex  Height_cm  Weight_Kg\n",
       "0     SHREE VYSHNAVI A       B  Girl        158         56\n",
       "1  AARON ARTHUR ELISHA       A   Boy        183         76\n",
       "2             ABHISHEK       A   Boy        181         56\n",
       "3        ABRAR HUSSAIN       B   Boy        182         69\n",
       "4              ADITI A       B  Girl        157         61\n",
       "5          ADITYA GARG       C   Boy        182         60\n",
       "6       ADITYA ADUKURI       B   Boy        171         75\n",
       "7        ADITYA KUSHAL       A   Boy        176         61\n",
       "8             ADITYA P       A   Boy        170         55\n",
       "9        ADITYA RAJU A       A   Boy        172         75"
      ]
     },
     "metadata": {},
     "output_type": "display_data"
    }
   ],
   "source": [
    "sql = \"\"\"\n",
    "  SELECT name, Section,\n",
    "    CASE sex                       -- start transformation\n",
    "       WHEN 'Female' THEN 'Girl'\n",
    "       ELSE 'Boy'\n",
    "    END sex,                       -- end\n",
    "    Height_cm, Weight_Kg\n",
    "  FROM Students\n",
    "  LIMIT 10\n",
    "\"\"\"\n",
    "pd.read_sql(sql, con)"
   ]
  },
  {
   "cell_type": "markdown",
   "metadata": {},
   "source": []
  },
  {
   "cell_type": "markdown",
   "metadata": {},
   "source": [
    "# Indexing"
   ]
  },
  {
   "cell_type": "code",
   "execution_count": 3,
   "metadata": {},
   "outputs": [],
   "source": [
    "def find_operation():\n",
    "    pd.read_sql(\"SELECT * FROM Students WHERE USN LIKE '1RVU22CSE157'\", con)"
   ]
  },
  {
   "cell_type": "markdown",
   "metadata": {},
   "source": [
    "Time performance Without index"
   ]
  },
  {
   "cell_type": "code",
   "execution_count": 6,
   "metadata": {},
   "outputs": [
    {
     "name": "stdout",
     "output_type": "stream",
     "text": [
      "Performance without index\n",
      "3.29 ms ± 264 µs per loop (mean ± std. dev. of 7 runs, 100 loops each)\n"
     ]
    }
   ],
   "source": [
    "con.execute(\"DROP INDEX IF EXISTS USN;\")\n",
    "print(\"Performance without index\")    \n",
    "%timeit find_operation()   "
   ]
  },
  {
   "cell_type": "markdown",
   "metadata": {},
   "source": [
    "Time performance With index"
   ]
  },
  {
   "cell_type": "code",
   "execution_count": 7,
   "metadata": {},
   "outputs": [
    {
     "name": "stdout",
     "output_type": "stream",
     "text": [
      "Performance with index\n",
      "3.21 ms ± 265 µs per loop (mean ± std. dev. of 7 runs, 100 loops each)\n"
     ]
    }
   ],
   "source": [
    "con.execute(\"CREATE INDEX IF NOT EXISTS USN ON Students (USN);\")\n",
    "print(\"Performance with index\")  \n",
    "%timeit find_operation()  "
   ]
  },
  {
   "cell_type": "code",
   "execution_count": 8,
   "metadata": {},
   "outputs": [],
   "source": [
    "con.close()"
   ]
  }
 ],
 "metadata": {
  "kernelspec": {
   "display_name": "Python 3",
   "language": "python",
   "name": "python3"
  },
  "language_info": {
   "codemirror_mode": {
    "name": "ipython",
    "version": 3
   },
   "file_extension": ".py",
   "mimetype": "text/x-python",
   "name": "python",
   "nbconvert_exporter": "python",
   "pygments_lexer": "ipython3",
   "version": "3.11.5"
  },
  "orig_nbformat": 4
 },
 "nbformat": 4,
 "nbformat_minor": 2
}
