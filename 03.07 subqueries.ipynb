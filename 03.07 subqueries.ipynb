{
 "cells": [
  {
   "cell_type": "code",
   "execution_count": null,
   "id": "03ad6e4b-9b9c-45b7-a0a9-e0382147257d",
   "metadata": {
    "tags": []
   },
   "outputs": [],
   "source": [
    "import sqlite3 as lite\n",
    "import pandas as pd"
   ]
  },
  {
   "cell_type": "markdown",
   "id": "45ec87f0-6746-4110-9899-c16ecd891745",
   "metadata": {},
   "source": [
    "### Subqueries   \n",
    "\n",
    "A Subquery or Inner query or a Nested query  \n",
    "is a query within another SQL query and embedded within clauses,  \n",
    "most commonly in the **WHERE** clause.  \n",
    "\n",
    "Data returned by a subquery is used in the main query as a condition to further restrict the data to be retrieved.  \n",
    "\n",
    "Subqueries can be used with the SELECT, INSERT, UPDATE, and DELETE statements  \n",
    "along with the operators like =, <, >, >=, <=, IN, BETWEEN, etc.  \n",
    "\n",
    "1. Subqueries are enclosed within parentheses.\n",
    "2. ORDER BY command cannot be used in a subquery, although the main query can use an ORDER BY.  \n",
    "3. Subqueries that return more than one row can only be used with multiple value operators such as the IN operator.  \n",
    "4. The SELECT list cannot include any references to values that evaluate to a BLOB, CLOB(unicode character-based data), and ARRAY.  \n",
    "    SQLite does not support ARRAY and CLOB data types.  \n",
    "\n",
    "Results of subqueries can be used in main queries. \n",
    "\n",
    "##### Scalar value     \n",
    "A scalar value has one component to it, the magnitude.  \n",
    "A scalar-valued function (SVF) returns a single value, such as a string, integer, or bit value.  \n",
    "[SQLite built-in scalar functions](https://www.sqlite.org/lang_corefunc.html)    \n",
    "We can create also our own functions (stored procedures)   "
   ]
  },
  {
   "cell_type": "code",
   "execution_count": 31,
   "id": "f30ba88b-82c2-46bd-8635-c3ecb7fb529a",
   "metadata": {
    "tags": []
   },
   "outputs": [
    {
     "name": "stdout",
     "output_type": "stream",
     "text": [
      "Regular Query:\n",
      "                Name  Age\n",
      "0  ANEESH B KULKARNI   17\n",
      "1         KEERTHI GM   17\n",
      "2           PRACHI G   17\n",
      "3      MONISH RAJ SR    0\n",
      "\n",
      "With Sub Query:\n",
      "                Name  Age\n",
      "0  ANEESH B KULKARNI   17\n",
      "1         KEERTHI GM   17\n",
      "2           PRACHI G   17\n",
      "3      MONISH RAJ SR    0\n"
     ]
    }
   ],
   "source": [
    "normal_query = \"\"\"\n",
    "  SELECT Name, Age FROM Students\n",
    "  WHERE Age<18;\n",
    "\"\"\"\n",
    "\n",
    "sub_query =  \"\"\"\n",
    "  SELECT Name, Age FROM Students\n",
    "  WHERE Age IN \n",
    "    (SELECT Age FROM Students WHERE Age < 18);   -- subquery\n",
    "\"\"\"\n",
    "\n",
    "with lite.connect('../Databases/BTechData.sqlite') as con:    \n",
    "    df1 = pd.read_sql(normal_query, con)\n",
    "    df2 = pd.read_sql(sub_query, con)\n",
    "\n",
    "print(\"Regular Query:\")\n",
    "print(df1)  \n",
    "print(\"\\nWith Sub Query:\")\n",
    "print(df2)  "
   ]
  },
  {
   "cell_type": "markdown",
   "id": "be32c60b-1c37-47c1-b35b-350ca945b369",
   "metadata": {},
   "source": [
    "#### CREATE and INSERT values to a new table   \n",
    "In this case, SELECT rows to insert into a new table is not a subquery  \n",
    "because what is returned is neither a scalar value nor a collection to check membership.   "
   ]
  },
  {
   "cell_type": "code",
   "execution_count": 33,
   "id": "3d1433df-8b23-44c6-9cc1-40e151829907",
   "metadata": {
    "tags": []
   },
   "outputs": [
    {
     "data": {
      "text/html": [
       "<div>\n",
       "<style scoped>\n",
       "    .dataframe tbody tr th:only-of-type {\n",
       "        vertical-align: middle;\n",
       "    }\n",
       "\n",
       "    .dataframe tbody tr th {\n",
       "        vertical-align: top;\n",
       "    }\n",
       "\n",
       "    .dataframe thead th {\n",
       "        text-align: right;\n",
       "    }\n",
       "</style>\n",
       "<table border=\"1\" class=\"dataframe\">\n",
       "  <thead>\n",
       "    <tr style=\"text-align: right;\">\n",
       "      <th></th>\n",
       "      <th>USN</th>\n",
       "      <th>Name</th>\n",
       "      <th>Email</th>\n",
       "      <th>Section</th>\n",
       "      <th>Sex</th>\n",
       "      <th>Date_of_Birth</th>\n",
       "      <th>Height_cm</th>\n",
       "      <th>Weight_Kg</th>\n",
       "      <th>Age</th>\n",
       "    </tr>\n",
       "  </thead>\n",
       "  <tbody>\n",
       "    <tr>\n",
       "      <th>0</th>\n",
       "      <td>1RVU22CSE025</td>\n",
       "      <td>ANEESH B KULKARNI</td>\n",
       "      <td>aneeshk</td>\n",
       "      <td>B</td>\n",
       "      <td>M</td>\n",
       "      <td>2005-08-27</td>\n",
       "      <td>180</td>\n",
       "      <td>62</td>\n",
       "      <td>17</td>\n",
       "    </tr>\n",
       "    <tr>\n",
       "      <th>1</th>\n",
       "      <td>1RVU22CSE056</td>\n",
       "      <td>KEERTHI GM</td>\n",
       "      <td>keerthigm</td>\n",
       "      <td>B</td>\n",
       "      <td>F</td>\n",
       "      <td>2005-10-12</td>\n",
       "      <td>164</td>\n",
       "      <td>48</td>\n",
       "      <td>17</td>\n",
       "    </tr>\n",
       "    <tr>\n",
       "      <th>2</th>\n",
       "      <td>1RVU22CSE115</td>\n",
       "      <td>PRACHI G</td>\n",
       "      <td>prachig</td>\n",
       "      <td>B</td>\n",
       "      <td>F</td>\n",
       "      <td>2005-10-03</td>\n",
       "      <td>152</td>\n",
       "      <td>46</td>\n",
       "      <td>17</td>\n",
       "    </tr>\n",
       "    <tr>\n",
       "      <th>3</th>\n",
       "      <td>1RVU22CSE134</td>\n",
       "      <td>MONISH RAJ SR</td>\n",
       "      <td>monishrajsr</td>\n",
       "      <td>A</td>\n",
       "      <td>M</td>\n",
       "      <td>2023-04-24</td>\n",
       "      <td>180</td>\n",
       "      <td>80</td>\n",
       "      <td>0</td>\n",
       "    </tr>\n",
       "  </tbody>\n",
       "</table>\n",
       "</div>"
      ],
      "text/plain": [
       "            USN               Name        Email Section Sex Date_of_Birth  \\\n",
       "0  1RVU22CSE025  ANEESH B KULKARNI      aneeshk       B   M    2005-08-27   \n",
       "1  1RVU22CSE056         KEERTHI GM    keerthigm       B   F    2005-10-12   \n",
       "2  1RVU22CSE115           PRACHI G      prachig       B   F    2005-10-03   \n",
       "3  1RVU22CSE134      MONISH RAJ SR  monishrajsr       A   M    2023-04-24   \n",
       "\n",
       "   Height_cm  Weight_Kg  Age  \n",
       "0        180         62   17  \n",
       "1        164         48   17  \n",
       "2        152         46   17  \n",
       "3        180         80    0  "
      ]
     },
     "execution_count": 33,
     "metadata": {},
     "output_type": "execute_result"
    }
   ],
   "source": [
    "temp_query = \"\"\"\n",
    "CREATE TEMP TABLE non_voters AS\n",
    "    SELECT * FROM Students\n",
    "      WHERE Age<18;\n",
    "\"\"\"\n",
    "\n",
    "with lite.connect('../Databases/BTechData.sqlite') as con:\n",
    "    con.execute(temp_query)\n",
    "    con.commit()\n",
    "    df_temp = pd.read_sql(\"SELECT * FROM non_voters\", con)\n",
    "\n",
    "df_temp    "
   ]
  },
  {
   "cell_type": "markdown",
   "id": "c20e13c8-84c8-4ddd-9d88-22aea684c8c3",
   "metadata": {},
   "source": [
    "#### Aside   \n",
    "Visualise data for better understanding   "
   ]
  },
  {
   "cell_type": "code",
   "execution_count": 34,
   "id": "704c3fed-258a-4230-9821-ff2f207f210c",
   "metadata": {
    "tags": []
   },
   "outputs": [
    {
     "data": {
      "image/png": "[encoded data removed]",
      "text/plain": [
       "<Figure size 400x200 with 1 Axes>"
      ]
     },
     "metadata": {},
     "output_type": "display_data"
    }
   ],
   "source": [
    "ordby = \"\"\"\n",
    "SELECT Age, COUNT(Age)\n",
    "FROM Students\n",
    "GROUP BY Age\n",
    "\"\"\"\n",
    "\n",
    "with lite.connect ('../Databases/BTechData.sqlite') as con:\n",
    "    df = pd.read_sql(ordby, con)\n",
    "\n",
    "df.set_index('Age').plot.bar(figsize=(4,2), alpha=0.6);"
   ]
  },
  {
   "cell_type": "code",
   "execution_count": 35,
   "id": "94b00e45-05ee-4f51-8967-dd9a161921e3",
   "metadata": {
    "tags": []
   },
   "outputs": [
    {
     "data": {
      "image/png": "[encoded data removed]",
      "text/plain": [
       "<Figure size 300x300 with 1 Axes>"
      ]
     },
     "metadata": {},
     "output_type": "display_data"
    }
   ],
   "source": [
    "df.set_index('Age').plot.pie(y='COUNT(Age)', figsize=(3,3));"
   ]
  },
  {
   "cell_type": "markdown",
   "id": "190c1cb7-7588-4aa4-b19e-2359837018d4",
   "metadata": {},
   "source": [
    "---\n",
    "#### Eample: Find  suspected duplicate elector records       \n",
    "Elector records with phonetically matching (name + relative name) are suspected to be duplicated.  \n",
    "We have recorded `metaphones` for the voter records.   \n",
    "\n",
    "Consider voter records of one part(booth) - AC 150, Part 93 with 1,322 voters.   \n",
    "1. read voter data to a dataframe   "
   ]
  },
  {
   "cell_type": "code",
   "execution_count": 37,
   "id": "70b0d6c9-2add-4723-a4a4-90191f592ddb",
   "metadata": {
    "tags": []
   },
   "outputs": [
    {
     "name": "stdout",
     "output_type": "stream",
     "text": [
      "Electors in Part KA1500093 = 1322\n",
      "Index(['Part', 'Ward', 'Section', 'Serial', 'House', 'EPIC', 'Name', 'Sex',\n",
      "       'Age', 'Relative', 'Reln', 'Status', 'metaphone', 'meta_name',\n",
      "       'meta_rel'],\n",
      "      dtype='object')\n",
      "\n"
     ]
    },
    {
     "data": {
      "text/html": [
       "<div>\n",
       "<style scoped>\n",
       "    .dataframe tbody tr th:only-of-type {\n",
       "        vertical-align: middle;\n",
       "    }\n",
       "\n",
       "    .dataframe tbody tr th {\n",
       "        vertical-align: top;\n",
       "    }\n",
       "\n",
       "    .dataframe thead th {\n",
       "        text-align: right;\n",
       "    }\n",
       "</style>\n",
       "<table border=\"1\" class=\"dataframe\">\n",
       "  <thead>\n",
       "    <tr style=\"text-align: right;\">\n",
       "      <th></th>\n",
       "      <th>Part</th>\n",
       "      <th>Section</th>\n",
       "      <th>Serial</th>\n",
       "      <th>House</th>\n",
       "      <th>EPIC</th>\n",
       "      <th>Name</th>\n",
       "      <th>Relative</th>\n",
       "      <th>metaphone</th>\n",
       "    </tr>\n",
       "  </thead>\n",
       "  <tbody>\n",
       "    <tr>\n",
       "      <th>0</th>\n",
       "      <td>KA1500093</td>\n",
       "      <td>1</td>\n",
       "      <td>1</td>\n",
       "      <td>...</td>\n",
       "      <td>XTE3756681</td>\n",
       "      <td>SYED GOWS</td>\n",
       "      <td>MAHAMED SAB</td>\n",
       "      <td>STKSMHMTSP</td>\n",
       "    </tr>\n",
       "    <tr>\n",
       "      <th>1</th>\n",
       "      <td>KA1500093</td>\n",
       "      <td>1</td>\n",
       "      <td>2</td>\n",
       "      <td>...</td>\n",
       "      <td>XTE3756723</td>\n",
       "      <td>YASMIN</td>\n",
       "      <td>SYED GOWS</td>\n",
       "      <td>ASMNSTKS</td>\n",
       "    </tr>\n",
       "    <tr>\n",
       "      <th>2</th>\n",
       "      <td>KA1500093</td>\n",
       "      <td>1</td>\n",
       "      <td>3</td>\n",
       "      <td>46, 9th Cross</td>\n",
       "      <td>XTE4055794</td>\n",
       "      <td>ASHWIN JOSHI JOSHY</td>\n",
       "      <td>LAXMINARAYANA JOSHY</td>\n",
       "      <td>AXNJXJXLKSMNRNJX</td>\n",
       "    </tr>\n",
       "    <tr>\n",
       "      <th>3</th>\n",
       "      <td>KA1500093</td>\n",
       "      <td>1</td>\n",
       "      <td>4</td>\n",
       "      <td>-</td>\n",
       "      <td>XTE3847969</td>\n",
       "      <td>MARAPPA</td>\n",
       "      <td>SRIRANGANNA</td>\n",
       "      <td>MRPSRRNKN</td>\n",
       "    </tr>\n",
       "    <tr>\n",
       "      <th>4</th>\n",
       "      <td>KA1500093</td>\n",
       "      <td>1</td>\n",
       "      <td>5</td>\n",
       "      <td>-</td>\n",
       "      <td>XTE3847894</td>\n",
       "      <td>PRIYAMMA</td>\n",
       "      <td>MARAPPA</td>\n",
       "      <td>PRMMRP</td>\n",
       "    </tr>\n",
       "  </tbody>\n",
       "</table>\n",
       "</div>"
      ],
      "text/plain": [
       "        Part  Section Serial          House        EPIC                Name  \\\n",
       "0  KA1500093        1      1            ...  XTE3756681           SYED GOWS   \n",
       "1  KA1500093        1      2            ...  XTE3756723              YASMIN   \n",
       "2  KA1500093        1      3  46, 9th Cross  XTE4055794  ASHWIN JOSHI JOSHY   \n",
       "3  KA1500093        1      4              -  XTE3847969             MARAPPA   \n",
       "4  KA1500093        1      5              -  XTE3847894            PRIYAMMA   \n",
       "\n",
       "              Relative         metaphone  \n",
       "0          MAHAMED SAB        STKSMHMTSP  \n",
       "1            SYED GOWS          ASMNSTKS  \n",
       "2  LAXMINARAYANA JOSHY  AXNJXJXLKSMNRNJX  \n",
       "3          SRIRANGANNA         MRPSRRNKN  \n",
       "4              MARAPPA            PRMMRP  "
      ]
     },
     "execution_count": 37,
     "metadata": {},
     "output_type": "execute_result"
    }
   ],
   "source": [
    "df = pd.read_excel('../Data/KA1500093.xlsx')\n",
    "print(f\"Electors in Part KA1500093 = {len(df)}\")\n",
    "print(df.columns); print()\n",
    "\n",
    "df[['Part', 'Section', 'Serial', 'House', 'EPIC', 'Name', 'Relative', 'metaphone']].head()"
   ]
  },
  {
   "cell_type": "code",
   "execution_count": 38,
   "id": "5bedd106-bd53-423a-baeb-1711a1950c85",
   "metadata": {},
   "outputs": [],
   "source": [
    "con = lite.connect(\":memory:\")\n",
    "sql = \"\"\"\n",
    "   CREATE TABLE voters(\n",
    "     Section Int, \n",
    "     Serial Int, \n",
    "     House Text, \n",
    "     Name Text, \n",
    "     Sex Text,\n",
    "     Age Int, \n",
    "     Relative Text, \n",
    "     metaphone Text)\n",
    "\"\"\"\n",
    "con.execute(sql)\n",
    "con.commit()"
   ]
  },
  {
   "cell_type": "markdown",
   "id": "93d304ca-6e8c-4cce-afc7-7831129dcfc8",
   "metadata": {},
   "source": [
    "2. insert select columns into an in-memory database table  "
   ]
  },
  {
   "cell_type": "code",
   "execution_count": 39,
   "id": "766c06eb-8431-4165-8dd0-2e2232bd526f",
   "metadata": {
    "tags": []
   },
   "outputs": [
    {
     "data": {
      "text/plain": [
       "1322"
      ]
     },
     "execution_count": 39,
     "metadata": {},
     "output_type": "execute_result"
    }
   ],
   "source": [
    "df[['Section', 'Serial', 'House', 'Name', 'Sex',\n",
    "    'Age', 'Relative', 'metaphone']].to_sql('voters', con, if_exists='append', index=False)"
   ]
  },
  {
   "cell_type": "markdown",
   "id": "58074a70-66e7-4a4c-a8ff-66eb2394e9c9",
   "metadata": {},
   "source": [
    "3. create a tuple of metaphones with count > 1, the suspected duplicate entries,   \n",
    "   . SQL IN operators takes a tuple as argument   \n",
    "   . observe the HAVING clause within ORDER BY clause   "
   ]
  },
  {
   "cell_type": "code",
   "execution_count": 43,
   "id": "f9809182-c087-440b-928d-95c7fa4507cd",
   "metadata": {
    "tags": []
   },
   "outputs": [
    {
     "name": "stdout",
     "output_type": "stream",
     "text": [
      "17\n",
      " ('STNRNJRMMHNRJ', 'SJ0NKRJP', 'SF0SKRPRSTKS', 'RMXKXTRT', 'PXPL0KMNJN0TP', 'PRSTRTSRSPRTSR', 'PLSMFF0LNKMK', 'PFNSTKTSM', 'NRNRTAX0RT', 'MLKAMRN0RTPR', 'LKXMMNRNSM', 'KRPRSTKSXFNMR', 'F0RNXN0PKXTNNTPP', 'ATNRSNKMSSRNTRSNKM', 'ANRTPPRJ0K', 'AMXSKP', 'AJKKN0RJN')\n"
     ]
    }
   ],
   "source": [
    "sql = \"\"\"\n",
    "    SELECT metaphone \n",
    "    FROM voters\n",
    "    GROUP BY metaphone\n",
    "        HAVING COUNT(metaphone) > 1\n",
    "    ORDER BY\n",
    "      COUNT(metaphone) DESC\n",
    "\"\"\"\n",
    "dupl = list(con.execute(sql))\n",
    "dupl = tuple([d[0] for d in dupl])\n",
    "print(f\"{len(dupl)}\\n {dupl}\")"
   ]
  },
  {
   "cell_type": "markdown",
   "id": "5e7b87a2-4c1a-4ee1-9819-5fa7536ce220",
   "metadata": {
    "tags": []
   },
   "source": [
    "4. get the voter records with the above metaphones   "
   ]
  },
  {
   "cell_type": "code",
   "execution_count": 44,
   "id": "1315c5b0-e64d-4551-b1a4-1d5853e9d2e4",
   "metadata": {
    "tags": []
   },
   "outputs": [
    {
     "data": {
      "text/html": [
       "<div>\n",
       "<style scoped>\n",
       "    .dataframe tbody tr th:only-of-type {\n",
       "        vertical-align: middle;\n",
       "    }\n",
       "\n",
       "    .dataframe tbody tr th {\n",
       "        vertical-align: top;\n",
       "    }\n",
       "\n",
       "    .dataframe thead th {\n",
       "        text-align: right;\n",
       "    }\n",
       "</style>\n",
       "<table border=\"1\" class=\"dataframe\">\n",
       "  <thead>\n",
       "    <tr style=\"text-align: right;\">\n",
       "      <th></th>\n",
       "      <th>Section</th>\n",
       "      <th>Serial</th>\n",
       "      <th>House</th>\n",
       "      <th>Name</th>\n",
       "      <th>Sex</th>\n",
       "      <th>Age</th>\n",
       "      <th>Relative</th>\n",
       "      <th>metaphone</th>\n",
       "    </tr>\n",
       "  </thead>\n",
       "  <tbody>\n",
       "    <tr>\n",
       "      <th>0</th>\n",
       "      <td>1</td>\n",
       "      <td>437</td>\n",
       "      <td>17</td>\n",
       "      <td>AJAY A K</td>\n",
       "      <td>M</td>\n",
       "      <td>23</td>\n",
       "      <td>KANTHARAJU A N</td>\n",
       "      <td>AJKKN0RJN</td>\n",
       "    </tr>\n",
       "    <tr>\n",
       "      <th>1</th>\n",
       "      <td>1</td>\n",
       "      <td>439</td>\n",
       "      <td>17</td>\n",
       "      <td>AJAY A K</td>\n",
       "      <td>M</td>\n",
       "      <td>24</td>\n",
       "      <td>KANTHARAJU A N</td>\n",
       "      <td>AJKKN0RJN</td>\n",
       "    </tr>\n",
       "    <tr>\n",
       "      <th>2</th>\n",
       "      <td>1</td>\n",
       "      <td>779</td>\n",
       "      <td>39</td>\n",
       "      <td>UMESH</td>\n",
       "      <td>M</td>\n",
       "      <td>26</td>\n",
       "      <td>SOOGAPPA</td>\n",
       "      <td>AMXSKP</td>\n",
       "    </tr>\n",
       "    <tr>\n",
       "      <th>3</th>\n",
       "      <td>1</td>\n",
       "      <td>780</td>\n",
       "      <td>39</td>\n",
       "      <td>UMESHA</td>\n",
       "      <td>M</td>\n",
       "      <td>26</td>\n",
       "      <td>SUGAPPA</td>\n",
       "      <td>AMXSKP</td>\n",
       "    </tr>\n",
       "    <tr>\n",
       "      <th>4</th>\n",
       "      <td>1</td>\n",
       "      <td>402</td>\n",
       "      <td>2022-03-15 00:00:00</td>\n",
       "      <td>ANURADHA B</td>\n",
       "      <td>F</td>\n",
       "      <td>29</td>\n",
       "      <td>PRAGITH C H</td>\n",
       "      <td>ANRTPPRJ0K</td>\n",
       "    </tr>\n",
       "    <tr>\n",
       "      <th>5</th>\n",
       "      <td>1</td>\n",
       "      <td>403</td>\n",
       "      <td>2016-03-15 00:00:00</td>\n",
       "      <td>ANURADHA B</td>\n",
       "      <td>F</td>\n",
       "      <td>30</td>\n",
       "      <td>PRAJEETH C H</td>\n",
       "      <td>ANRTPPRJ0K</td>\n",
       "    </tr>\n",
       "    <tr>\n",
       "      <th>6</th>\n",
       "      <td>1</td>\n",
       "      <td>225</td>\n",
       "      <td>9</td>\n",
       "      <td>UDAYNAR SINGH M S</td>\n",
       "      <td>M</td>\n",
       "      <td>32</td>\n",
       "      <td>SURENDAR SINGH M</td>\n",
       "      <td>ATNRSNKMSSRNTRSNKM</td>\n",
       "    </tr>\n",
       "    <tr>\n",
       "      <th>7</th>\n",
       "      <td>1</td>\n",
       "      <td>339</td>\n",
       "      <td>13</td>\n",
       "      <td>UDAY NAR SINGH M S</td>\n",
       "      <td>M</td>\n",
       "      <td>33</td>\n",
       "      <td>SURENDAR SINGH M</td>\n",
       "      <td>ATNRSNKMSSRNTRSNKM</td>\n",
       "    </tr>\n",
       "    <tr>\n",
       "      <th>8</th>\n",
       "      <td>1</td>\n",
       "      <td>1084</td>\n",
       "      <td>#127</td>\n",
       "      <td>FATHER NISHANTH B C</td>\n",
       "      <td>M</td>\n",
       "      <td>21</td>\n",
       "      <td>CHIDANANDA B B</td>\n",
       "      <td>F0RNXN0PKXTNNTPP</td>\n",
       "    </tr>\n",
       "    <tr>\n",
       "      <th>9</th>\n",
       "      <td>1</td>\n",
       "      <td>#1084</td>\n",
       "      <td>127</td>\n",
       "      <td>FATHER NISHANTH B C</td>\n",
       "      <td>M</td>\n",
       "      <td>20</td>\n",
       "      <td>CHIDANANDA B B</td>\n",
       "      <td>F0RNXN0PKXTNNTPP</td>\n",
       "    </tr>\n",
       "    <tr>\n",
       "      <th>10</th>\n",
       "      <td>1</td>\n",
       "      <td>1032</td>\n",
       "      <td>113</td>\n",
       "      <td>GURU PRASAD K S</td>\n",
       "      <td>M</td>\n",
       "      <td>35</td>\n",
       "      <td>SHIVANNA M R</td>\n",
       "      <td>KRPRSTKSXFNMR</td>\n",
       "    </tr>\n",
       "    <tr>\n",
       "      <th>11</th>\n",
       "      <td>1</td>\n",
       "      <td>1033</td>\n",
       "      <td>113</td>\n",
       "      <td>GURUPRASAD K S</td>\n",
       "      <td>M</td>\n",
       "      <td>35</td>\n",
       "      <td>SHIVANNA M R</td>\n",
       "      <td>KRPRSTKSXFNMR</td>\n",
       "    </tr>\n",
       "    <tr>\n",
       "      <th>12</th>\n",
       "      <td>1</td>\n",
       "      <td>115</td>\n",
       "      <td>4</td>\n",
       "      <td>LAKSHMAMMA</td>\n",
       "      <td>F</td>\n",
       "      <td>48</td>\n",
       "      <td>NARAYANASWAMI</td>\n",
       "      <td>LKXMMNRNSM</td>\n",
       "    </tr>\n",
       "    <tr>\n",
       "      <th>13</th>\n",
       "      <td>1</td>\n",
       "      <td>122</td>\n",
       "      <td>NO.4</td>\n",
       "      <td>LAKSHMAMMA</td>\n",
       "      <td>F</td>\n",
       "      <td>49</td>\n",
       "      <td>NARAYANASWAMY</td>\n",
       "      <td>LKXMMNRNSM</td>\n",
       "    </tr>\n",
       "    <tr>\n",
       "      <th>14</th>\n",
       "      <td>1</td>\n",
       "      <td>551</td>\n",
       "      <td>21</td>\n",
       "      <td>MALLIKA H A</td>\n",
       "      <td>F</td>\n",
       "      <td>21</td>\n",
       "      <td>AMARANATHA REDDY B R</td>\n",
       "      <td>MLKAMRN0RTPR</td>\n",
       "    </tr>\n",
       "    <tr>\n",
       "      <th>15</th>\n",
       "      <td>1</td>\n",
       "      <td>552</td>\n",
       "      <td>21</td>\n",
       "      <td>MALLIKA H A</td>\n",
       "      <td>F</td>\n",
       "      <td>21</td>\n",
       "      <td>AMARNATH REDDY B R</td>\n",
       "      <td>MLKAMRN0RTPR</td>\n",
       "    </tr>\n",
       "    <tr>\n",
       "      <th>16</th>\n",
       "      <td>1</td>\n",
       "      <td>320</td>\n",
       "      <td>13</td>\n",
       "      <td>NARAYANA REDDY</td>\n",
       "      <td>M</td>\n",
       "      <td>48</td>\n",
       "      <td>ASHWATH REDDY</td>\n",
       "      <td>NRNRTAX0RT</td>\n",
       "    </tr>\n",
       "    <tr>\n",
       "      <th>17</th>\n",
       "      <td>1</td>\n",
       "      <td>355</td>\n",
       "      <td>13,Abhi Nilaya</td>\n",
       "      <td>NARAYANA REDDY A</td>\n",
       "      <td>M</td>\n",
       "      <td>48</td>\n",
       "      <td>ASHWATHA REDDY</td>\n",
       "      <td>NRNRTAX0RT</td>\n",
       "    </tr>\n",
       "    <tr>\n",
       "      <th>18</th>\n",
       "      <td>1</td>\n",
       "      <td>215</td>\n",
       "      <td>9</td>\n",
       "      <td>BHAVYA N</td>\n",
       "      <td>F</td>\n",
       "      <td>35</td>\n",
       "      <td>SIDDHEGOWDA S M</td>\n",
       "      <td>PFNSTKTSM</td>\n",
       "    </tr>\n",
       "    <tr>\n",
       "      <th>19</th>\n",
       "      <td>1</td>\n",
       "      <td>222</td>\n",
       "      <td>9</td>\n",
       "      <td>BHAVYA N</td>\n",
       "      <td>F</td>\n",
       "      <td>35</td>\n",
       "      <td>SIDDEGOWDA S M</td>\n",
       "      <td>PFNSTKTSM</td>\n",
       "    </tr>\n",
       "    <tr>\n",
       "      <th>20</th>\n",
       "      <td>1</td>\n",
       "      <td>1009</td>\n",
       "      <td>104</td>\n",
       "      <td>BALUSWAMI V</td>\n",
       "      <td>M</td>\n",
       "      <td>57</td>\n",
       "      <td>VAITHILINGAM K</td>\n",
       "      <td>PLSMFF0LNKMK</td>\n",
       "    </tr>\n",
       "    <tr>\n",
       "      <th>21</th>\n",
       "      <td>1</td>\n",
       "      <td>1010</td>\n",
       "      <td>104</td>\n",
       "      <td>BALUSWAMY V</td>\n",
       "      <td>M</td>\n",
       "      <td>57</td>\n",
       "      <td>VAITHILINGAM K</td>\n",
       "      <td>PLSMFF0LNKMK</td>\n",
       "    </tr>\n",
       "    <tr>\n",
       "      <th>22</th>\n",
       "      <td>1</td>\n",
       "      <td>133</td>\n",
       "      <td>5</td>\n",
       "      <td>PRASAD RAO DASARI</td>\n",
       "      <td>M</td>\n",
       "      <td>45</td>\n",
       "      <td>SUBBURAO DASARI</td>\n",
       "      <td>PRSTRTSRSPRTSR</td>\n",
       "    </tr>\n",
       "    <tr>\n",
       "      <th>23</th>\n",
       "      <td>1</td>\n",
       "      <td>135</td>\n",
       "      <td>5</td>\n",
       "      <td>PRASAD RAO DASARI</td>\n",
       "      <td>M</td>\n",
       "      <td>45</td>\n",
       "      <td>SUBBA RAO DASARI</td>\n",
       "      <td>PRSTRTSRSPRTSR</td>\n",
       "    </tr>\n",
       "    <tr>\n",
       "      <th>24</th>\n",
       "      <td>1</td>\n",
       "      <td>304</td>\n",
       "      <td>13</td>\n",
       "      <td>PUSHPALATHA C</td>\n",
       "      <td>F</td>\n",
       "      <td>28</td>\n",
       "      <td>MANJUNATHA D P</td>\n",
       "      <td>PXPL0KMNJN0TP</td>\n",
       "    </tr>\n",
       "    <tr>\n",
       "      <th>25</th>\n",
       "      <td>1</td>\n",
       "      <td>312</td>\n",
       "      <td>13</td>\n",
       "      <td>PUSHPALATHA C</td>\n",
       "      <td>F</td>\n",
       "      <td>29</td>\n",
       "      <td>MANJUNATH D P</td>\n",
       "      <td>PXPL0KMNJN0TP</td>\n",
       "    </tr>\n",
       "    <tr>\n",
       "      <th>26</th>\n",
       "      <td>1</td>\n",
       "      <td>544</td>\n",
       "      <td>21</td>\n",
       "      <td>RAMESH C</td>\n",
       "      <td>M</td>\n",
       "      <td>39</td>\n",
       "      <td>CHOWDA REDDY</td>\n",
       "      <td>RMXKXTRT</td>\n",
       "    </tr>\n",
       "    <tr>\n",
       "      <th>27</th>\n",
       "      <td>1</td>\n",
       "      <td>547</td>\n",
       "      <td>21</td>\n",
       "      <td>RAMESH C</td>\n",
       "      <td>M</td>\n",
       "      <td>39</td>\n",
       "      <td>CHOUDAREDDY</td>\n",
       "      <td>RMXKXTRT</td>\n",
       "    </tr>\n",
       "    <tr>\n",
       "      <th>28</th>\n",
       "      <td>1</td>\n",
       "      <td>1030</td>\n",
       "      <td>113</td>\n",
       "      <td>SAVITHA A S</td>\n",
       "      <td>F</td>\n",
       "      <td>35</td>\n",
       "      <td>GURUPRASAD K S</td>\n",
       "      <td>SF0SKRPRSTKS</td>\n",
       "    </tr>\n",
       "    <tr>\n",
       "      <th>29</th>\n",
       "      <td>1</td>\n",
       "      <td>1031</td>\n",
       "      <td>113</td>\n",
       "      <td>SAVITHA A S</td>\n",
       "      <td>F</td>\n",
       "      <td>35</td>\n",
       "      <td>GURU PRASAD K S</td>\n",
       "      <td>SF0SKRPRSTKS</td>\n",
       "    </tr>\n",
       "    <tr>\n",
       "      <th>30</th>\n",
       "      <td>1</td>\n",
       "      <td>362</td>\n",
       "      <td>14</td>\n",
       "      <td>SUJATHA H</td>\n",
       "      <td>F</td>\n",
       "      <td>38</td>\n",
       "      <td>NAGARAJU B</td>\n",
       "      <td>SJ0NKRJP</td>\n",
       "    </tr>\n",
       "    <tr>\n",
       "      <th>31</th>\n",
       "      <td>1</td>\n",
       "      <td>363</td>\n",
       "      <td>14</td>\n",
       "      <td>SUJATHA H</td>\n",
       "      <td>F</td>\n",
       "      <td>34</td>\n",
       "      <td>NAGARAJU B</td>\n",
       "      <td>SJ0NKRJP</td>\n",
       "    </tr>\n",
       "    <tr>\n",
       "      <th>32</th>\n",
       "      <td>1</td>\n",
       "      <td>711</td>\n",
       "      <td>35</td>\n",
       "      <td>SATYANARAYANA YEJJU</td>\n",
       "      <td>M</td>\n",
       "      <td>28</td>\n",
       "      <td>RAMAMOHANARAO YEJJU</td>\n",
       "      <td>STNRNJRMMHNRJ</td>\n",
       "    </tr>\n",
       "    <tr>\n",
       "      <th>33</th>\n",
       "      <td>1</td>\n",
       "      <td>#711</td>\n",
       "      <td>35</td>\n",
       "      <td>SATYANARAYANA YEJJU</td>\n",
       "      <td>M</td>\n",
       "      <td>28</td>\n",
       "      <td>RAMAMOHANARAO YEJJU</td>\n",
       "      <td>STNRNJRMMHNRJ</td>\n",
       "    </tr>\n",
       "  </tbody>\n",
       "</table>\n",
       "</div>"
      ],
      "text/plain": [
       "    Section Serial                House                 Name Sex  Age  \\\n",
       "0         1    437                   17             AJAY A K   M   23   \n",
       "1         1    439                   17             AJAY A K   M   24   \n",
       "2         1    779                   39                UMESH   M   26   \n",
       "3         1    780                   39               UMESHA   M   26   \n",
       "4         1    402  2022-03-15 00:00:00           ANURADHA B   F   29   \n",
       "5         1    403  2016-03-15 00:00:00           ANURADHA B   F   30   \n",
       "6         1    225                    9    UDAYNAR SINGH M S   M   32   \n",
       "7         1    339                   13   UDAY NAR SINGH M S   M   33   \n",
       "8         1   1084                 #127  FATHER NISHANTH B C   M   21   \n",
       "9         1  #1084                  127  FATHER NISHANTH B C   M   20   \n",
       "10        1   1032                  113      GURU PRASAD K S   M   35   \n",
       "11        1   1033                  113       GURUPRASAD K S   M   35   \n",
       "12        1    115                    4           LAKSHMAMMA   F   48   \n",
       "13        1    122                 NO.4           LAKSHMAMMA   F   49   \n",
       "14        1    551                   21          MALLIKA H A   F   21   \n",
       "15        1    552                   21          MALLIKA H A   F   21   \n",
       "16        1    320                   13       NARAYANA REDDY   M   48   \n",
       "17        1    355       13,Abhi Nilaya     NARAYANA REDDY A   M   48   \n",
       "18        1    215                    9             BHAVYA N   F   35   \n",
       "19        1    222                    9             BHAVYA N   F   35   \n",
       "20        1   1009                  104          BALUSWAMI V   M   57   \n",
       "21        1   1010                  104          BALUSWAMY V   M   57   \n",
       "22        1    133                    5    PRASAD RAO DASARI   M   45   \n",
       "23        1    135                    5    PRASAD RAO DASARI   M   45   \n",
       "24        1    304                   13        PUSHPALATHA C   F   28   \n",
       "25        1    312                   13        PUSHPALATHA C   F   29   \n",
       "26        1    544                   21             RAMESH C   M   39   \n",
       "27        1    547                   21             RAMESH C   M   39   \n",
       "28        1   1030                  113          SAVITHA A S   F   35   \n",
       "29        1   1031                  113          SAVITHA A S   F   35   \n",
       "30        1    362                   14            SUJATHA H   F   38   \n",
       "31        1    363                   14            SUJATHA H   F   34   \n",
       "32        1    711                   35  SATYANARAYANA YEJJU   M   28   \n",
       "33        1   #711                   35  SATYANARAYANA YEJJU   M   28   \n",
       "\n",
       "                Relative           metaphone  \n",
       "0         KANTHARAJU A N           AJKKN0RJN  \n",
       "1         KANTHARAJU A N           AJKKN0RJN  \n",
       "2               SOOGAPPA              AMXSKP  \n",
       "3                SUGAPPA              AMXSKP  \n",
       "4            PRAGITH C H          ANRTPPRJ0K  \n",
       "5           PRAJEETH C H          ANRTPPRJ0K  \n",
       "6       SURENDAR SINGH M  ATNRSNKMSSRNTRSNKM  \n",
       "7       SURENDAR SINGH M  ATNRSNKMSSRNTRSNKM  \n",
       "8         CHIDANANDA B B    F0RNXN0PKXTNNTPP  \n",
       "9         CHIDANANDA B B    F0RNXN0PKXTNNTPP  \n",
       "10          SHIVANNA M R       KRPRSTKSXFNMR  \n",
       "11          SHIVANNA M R       KRPRSTKSXFNMR  \n",
       "12         NARAYANASWAMI          LKXMMNRNSM  \n",
       "13         NARAYANASWAMY          LKXMMNRNSM  \n",
       "14  AMARANATHA REDDY B R        MLKAMRN0RTPR  \n",
       "15    AMARNATH REDDY B R        MLKAMRN0RTPR  \n",
       "16         ASHWATH REDDY          NRNRTAX0RT  \n",
       "17        ASHWATHA REDDY          NRNRTAX0RT  \n",
       "18       SIDDHEGOWDA S M           PFNSTKTSM  \n",
       "19        SIDDEGOWDA S M           PFNSTKTSM  \n",
       "20        VAITHILINGAM K        PLSMFF0LNKMK  \n",
       "21        VAITHILINGAM K        PLSMFF0LNKMK  \n",
       "22       SUBBURAO DASARI      PRSTRTSRSPRTSR  \n",
       "23      SUBBA RAO DASARI      PRSTRTSRSPRTSR  \n",
       "24        MANJUNATHA D P       PXPL0KMNJN0TP  \n",
       "25         MANJUNATH D P       PXPL0KMNJN0TP  \n",
       "26          CHOWDA REDDY            RMXKXTRT  \n",
       "27           CHOUDAREDDY            RMXKXTRT  \n",
       "28        GURUPRASAD K S        SF0SKRPRSTKS  \n",
       "29       GURU PRASAD K S        SF0SKRPRSTKS  \n",
       "30            NAGARAJU B            SJ0NKRJP  \n",
       "31            NAGARAJU B            SJ0NKRJP  \n",
       "32   RAMAMOHANARAO YEJJU       STNRNJRMMHNRJ  \n",
       "33   RAMAMOHANARAO YEJJU       STNRNJRMMHNRJ  "
      ]
     },
     "execution_count": 44,
     "metadata": {},
     "output_type": "execute_result"
    }
   ],
   "source": [
    "sql = f\"\"\"\n",
    "    SELECT * \n",
    "    FROM voters\n",
    "    WHERE metaphone IN {dupl}\n",
    "    ORDER BY metaphone\n",
    "\"\"\"\n",
    "pd.read_sql(sql, con)"
   ]
  },
  {
   "cell_type": "markdown",
   "id": "4a5172ec-a30d-435b-ac2b-eadd7c3eebad",
   "metadata": {},
   "source": [
    "#### Operations 3 and 4 above can be combined using a subquery   \n",
    "The operation will be faster.  "
   ]
  },
  {
   "cell_type": "code",
   "execution_count": null,
   "id": "3e4a78a4-aeaa-4598-8972-aae8562026b5",
   "metadata": {
    "tags": []
   },
   "outputs": [],
   "source": [
    "sql = \"\"\"\n",
    "    SELECT * \n",
    "    FROM voters\n",
    "    WHERE metaphone IN                -- IN operator  \n",
    "    -- begin subquery\n",
    "    (SELECT metaphone                 -- list of repeated metaphones\n",
    "    FROM voters\n",
    "    GROUP BY metaphone\n",
    "        HAVING COUNT(metaphone) > 1)\n",
    "    -- end subquery   \n",
    "    ORDER BY metaphone DESC        \n",
    "\"\"\"\n",
    "pd.read_sql(sql, con)"
   ]
  },
  {
   "cell_type": "markdown",
   "id": "bebe596a-1e0d-4f52-a5d3-3f8c39fb5ee2",
   "metadata": {},
   "source": [
    "#### Subqueries with the INSERT Statement   \n",
    "INSERT data returned from a subquery into another table.  \n",
    "The selected data in the subquery can be modified with any of the character, date or number functions.\n",
    "```\n",
    "INSERT INTO table_name [ (column1 [, column2 ]) ]\n",
    "   SELECT [ *|column1 [, column2 ]\n",
    "   FROM table1 [, table2 ]\n",
    "   [ WHERE VALUE OPERATOR ]\n",
    "```"
   ]
  },
  {
   "cell_type": "code",
   "execution_count": null,
   "id": "08cb90ca-e261-4730-94d0-6ae8cba03304",
   "metadata": {
    "tags": []
   },
   "outputs": [],
   "source": [
    "sql = \"\"\"\n",
    "   CREATE TABLE dupl_records(\n",
    "        Section Int, \n",
    "        Serial Int, \n",
    "        House Text, \n",
    "        Name Text, \n",
    "        Sex Text,\n",
    "        Age Int, \n",
    "        Relative Text, \n",
    "        metaphone Text)\n",
    "\"\"\"\n",
    "con.execute(sql)\n",
    "con.commit()"
   ]
  },
  {
   "cell_type": "code",
   "execution_count": null,
   "id": "80f09f51-d1c2-4e07-8eb9-9c6b4532994a",
   "metadata": {
    "tags": []
   },
   "outputs": [],
   "source": [
    "sql = \"\"\"\n",
    "    INSERT INTO dupl_records  \n",
    "    SELECT * FROM voters\n",
    "    WHERE metaphone IN                  -- match metaphone  \n",
    "    (SELECT metaphone \n",
    "    FROM voters\n",
    "    GROUP BY metaphone\n",
    "        HAVING COUNT(metaphone) > 1)    -- with duplicated metaphone\n",
    "\"\"\"\n",
    "con.execute(sql)\n",
    "con.commit()"
   ]
  },
  {
   "cell_type": "code",
   "execution_count": null,
   "id": "ce48dc8f-bd82-4c83-9603-e08489711e4b",
   "metadata": {
    "tags": []
   },
   "outputs": [],
   "source": [
    "pd.read_sql(\"SELECT * FROM dupl_records ORDER BY metaphone\", con)"
   ]
  },
  {
   "cell_type": "markdown",
   "id": "96a09721-b0e3-48df-9d43-fa9c9809f227",
   "metadata": {},
   "source": [
    "#### Subqueries with the UPDATE Statement   \n",
    "The subquery can be used in conjunction with the UPDATE statement.  \n",
    "Either single or multiple columns in a table can be updated when using a subquery with the UPDATE statement.\n",
    "```\n",
    "UPDATE table\n",
    "SET column_name = new_value\n",
    "[ WHERE OPERATOR [ VALUE ]\n",
    "   (SELECT COLUMN_NAME\n",
    "   FROM TABLE_NAME)\n",
    "   [ WHERE) ]\n",
    "```  \n",
    "E.g., reduce the age of female voters older than 30 by one year.  \n",
    "Another election promise of All Inida BTParty.     "
   ]
  },
  {
   "cell_type": "code",
   "execution_count": null,
   "id": "2df3180b-a882-4f60-bfa0-82769c1a5d08",
   "metadata": {
    "tags": []
   },
   "outputs": [],
   "source": [
    "pd.read_sql(\"SELECT * FROM dupl_records WHERE Age >= 30 AND Sex = 'F'\", con)"
   ]
  },
  {
   "cell_type": "code",
   "execution_count": null,
   "id": "f36c1306-e230-41c1-8d11-aa460e332682",
   "metadata": {
    "tags": []
   },
   "outputs": [],
   "source": [
    "sql = \"\"\"\n",
    "    UPDATE dupl_records\n",
    "    SET Age = Age-2 \n",
    "    WHERE Age IN \n",
    "    (SELECT Age FROM dupl_records\n",
    "     WHERE Age >= 30\n",
    "     AND Sex = 'F')\n",
    "\"\"\"\n",
    "con.execute(sql)\n",
    "con.commit()\n"
   ]
  },
  {
   "cell_type": "code",
   "execution_count": null,
   "id": "274f72c1-8eea-4aa6-abbe-9eb87db47c08",
   "metadata": {
    "tags": []
   },
   "outputs": [],
   "source": [
    "pd.read_sql(\"SELECT * FROM dupl_records WHERE Age >= 30 AND Sex = 'F'\", con)"
   ]
  },
  {
   "cell_type": "markdown",
   "id": "6e2534f2-502e-4b1c-a824-4713c9e689a4",
   "metadata": {},
   "source": [
    "#### Subqueries with the DELETE Statement   \n",
    "```\n",
    "DELETE FROM TABLE_NAME\n",
    "[ WHERE OPERATOR [ VALUE ]\n",
    "   (SELECT COLUMN_NAME\n",
    "   FROM TABLE_NAME)\n",
    "   [ WHERE) ]\n",
    "```"
   ]
  },
  {
   "cell_type": "code",
   "execution_count": null,
   "id": "6b71a9f9-45f3-4064-a586-0008abcb9cff",
   "metadata": {
    "tags": []
   },
   "outputs": [],
   "source": [
    "print(f'Super seniors {con.execute(\"SELECT COUNT(*) FROM voters WHERE Age > 80\").fetchone()[0]:5}')\n",
    "print(f'Total voters: {con.execute(\"SELECT COUNT(*) FROM voters\").fetchone()[0]:5,}')"
   ]
  },
  {
   "cell_type": "code",
   "execution_count": null,
   "id": "5745d084-60b3-4379-ae13-156df8d91cc3",
   "metadata": {
    "tags": []
   },
   "outputs": [],
   "source": [
    "sql = \"\"\"\n",
    "DELETE FROM voters\n",
    "   WHERE AGE IN \n",
    "   (SELECT Age FROM voters\n",
    "      WHERE Age > 80);\n",
    "\"\"\"\n",
    "con.execute(sql)\n",
    "con.commit()"
   ]
  },
  {
   "cell_type": "code",
   "execution_count": null,
   "id": "71db04d7-3ad0-46c4-acca-3031a42fa815",
   "metadata": {
    "tags": []
   },
   "outputs": [],
   "source": [
    "print(f'Super seniors {con.execute(\"SELECT COUNT(*) FROM voters WHERE Age > 80\").fetchone()[0]:5}')\n",
    "print(f'Total voters: {con.execute(\"SELECT COUNT(*) FROM voters\").fetchone()[0]:5,}')"
   ]
  },
  {
   "cell_type": "code",
   "execution_count": null,
   "id": "adf42e56-8cd3-4820-b843-7346beed50e4",
   "metadata": {
    "tags": []
   },
   "outputs": [],
   "source": [
    "con.close()"
   ]
  },
  {
   "cell_type": "markdown",
   "id": "30764e40-4463-40ea-a092-3b96a4a5e0a1",
   "metadata": {},
   "source": [
    "---"
   ]
  },
  {
   "cell_type": "code",
   "execution_count": null,
   "id": "8429da81-d62a-4842-b8b5-c4a49f77a33f",
   "metadata": {
    "tags": []
   },
   "outputs": [],
   "source": [
    "con = lite.connect('../Databases/BTech22.sqlite')"
   ]
  },
  {
   "cell_type": "code",
   "execution_count": null,
   "id": "176b3012-dc62-4df9-be84-28ee37bf37cf",
   "metadata": {
    "tags": []
   },
   "outputs": [],
   "source": [
    "pd.read_sql(\"SELECT * FROM sqlite_master\", con)"
   ]
  },
  {
   "cell_type": "code",
   "execution_count": null,
   "id": "3b526b4f-cf3c-477d-8ba0-e0582818e0ed",
   "metadata": {
    "tags": []
   },
   "outputs": [],
   "source": [
    "pd.read_sql(\"PRAGMA table_info(Students)\", con)"
   ]
  },
  {
   "cell_type": "code",
   "execution_count": null,
   "id": "192d9a18-3a06-4421-b8d8-dc673236e352",
   "metadata": {
    "tags": []
   },
   "outputs": [],
   "source": [
    "sql = \"\"\"\n",
    "  SELECT DISTINCT Elective\n",
    "  From Students\n",
    "\"\"\"\n",
    "pd.read_sql(sql, con)"
   ]
  },
  {
   "cell_type": "markdown",
   "id": "05cd0edd-21b4-473b-88f1-804d101dc391",
   "metadata": {},
   "source": [
    "#### Create a look-up table for Electives    \n",
    "Primary key auto-incremented integer.     \n",
    "Insert fields other than PK value.  \n",
    "PK will increment automatically.  "
   ]
  },
  {
   "cell_type": "code",
   "execution_count": null,
   "id": "b72749c9-463d-4f30-8cd2-3b9f3460d597",
   "metadata": {},
   "outputs": [],
   "source": [
    "con.execute(\"DROP TABLE IF EXISTS Electives\");"
   ]
  },
  {
   "cell_type": "code",
   "execution_count": null,
   "id": "ddb92de9-4b43-4ee0-b1d2-e6f8841df5c4",
   "metadata": {
    "tags": []
   },
   "outputs": [],
   "source": [
    "sql = \"\"\"\n",
    "   CREATE TEMP TABLE IF NOT EXISTS Electives(\n",
    "      Elective_Id Integer PRIMARY KEY AUTOINCREMENT, \n",
    "      Elective_Name Text\n",
    ");\"\"\"\n",
    "con.execute(sql)\n",
    "con.commit();"
   ]
  },
  {
   "cell_type": "code",
   "execution_count": null,
   "id": "f0e6a0cc-ee85-4a4d-92e9-c83069a462e8",
   "metadata": {
    "tags": []
   },
   "outputs": [],
   "source": [
    "sql = \"\"\"\n",
    "  INSERT INTO Electives(Elective_Name)      -- only name is input. Not PK value. \n",
    "  SELECT DISTINCT Elective FROM Students    -- unique elective names.  \n",
    "\"\"\"\n",
    "con.execute(sql)\n",
    "con.commit();"
   ]
  },
  {
   "cell_type": "code",
   "execution_count": null,
   "id": "133692ae-95a5-4738-8b3a-86b873397772",
   "metadata": {
    "tags": []
   },
   "outputs": [],
   "source": [
    "pd.read_sql(\"SELECT * FROM Electives\", con)"
   ]
  },
  {
   "cell_type": "markdown",
   "id": "ec9722ec-26c6-4681-a0cc-f6439e3fa5d4",
   "metadata": {},
   "source": [
    "##### temporary table is not persisted   "
   ]
  },
  {
   "cell_type": "code",
   "execution_count": null,
   "id": "5baf2e15-09f7-4d37-908b-52fcfe32ab8a",
   "metadata": {
    "tags": []
   },
   "outputs": [],
   "source": [
    "with lite.connect('../Databases/BTech22.sqlite') as con:\n",
    "    df = pd.read_sql(\"SELECT * FROM sqlite_master\", con)\n",
    "\n",
    "df    "
   ]
  },
  {
   "cell_type": "code",
   "execution_count": null,
   "id": "8e43d422-39d2-44fa-b624-c822b8ca2cf1",
   "metadata": {
    "tags": []
   },
   "outputs": [],
   "source": [
    "con.close()"
   ]
  },
  {
   "cell_type": "markdown",
   "id": "d32b7eaf-f077-497b-8664-fd6a010c88b5",
   "metadata": {},
   "source": [
    "#### Task   \n",
    "Create master tables for Home_State, Home_Town, and Mother_Tongue using their standard code/acronym as primary key.   \n",
    "Create master tables for Electives and Clubs using autoincremented Integers as PK.   "
   ]
  },
  {
   "cell_type": "markdown",
   "id": "a1485f60-630b-485f-8ddd-a0b7a2104154",
   "metadata": {},
   "source": [
    "Deeply nested sub-queries will be harder to read and understand.  \n",
    "\n",
    "#### Common Table Expression - CTE   \n",
    "CTE and temp tables make the code easier to read, more modular.  \n",
    "They reduce duplicated SQL code (which reduces bugs),  \n",
    "and can even increase performance."
   ]
  }
 ],
 "metadata": {
  "kernelspec": {
   "display_name": "Python 3 (ipykernel)",
   "language": "python",
   "name": "python3"
  },
  "language_info": {
   "codemirror_mode": {
    "name": "ipython",
    "version": 3
   },
   "file_extension": ".py",
   "mimetype": "text/x-python",
   "name": "python",
   "nbconvert_exporter": "python",
   "pygments_lexer": "ipython3",
   "version": "3.11.4"
  }
 },
 "nbformat": 4,
 "nbformat_minor": 5
}
