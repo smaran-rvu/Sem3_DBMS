{
 "cells": [
  {
   "cell_type": "code",
   "execution_count": 1,
   "id": "3fd938d0",
   "metadata": {},
   "outputs": [],
   "source": [
    "import sqlite3 as lite \n",
    "import pandas as pd \n",
    "import os"
   ]
  },
  {
   "cell_type": "markdown",
   "id": "55e611e0-a627-45e8-a91f-ebc3dbe7bb2b",
   "metadata": {},
   "source": [
    "#### Note   \n",
    "In all cases, use only `con.execute` feature and not dataframes.  "
   ]
  },
  {
   "cell_type": "markdown",
   "id": "4f83143e-d243-4c2a-8462-a040b0276a26",
   "metadata": {},
   "source": [
    "##### Create database   \n",
    "In your folder, create a database named 0101a_lab_\\<your folder name>.sqlite   "
   ]
  },
  {
   "cell_type": "code",
   "execution_count": 2,
   "id": "f82b15d3-ed7a-4fd5-a8b9-630e8646c30a",
   "metadata": {},
   "outputs": [],
   "source": [
    "con = lite.connect(f'0101a_lab_smaranrb.sqlite')"
   ]
  },
  {
   "cell_type": "markdown",
   "id": "85eadab0-28f4-4b11-961d-8176557428e0",
   "metadata": {},
   "source": [
    "##### Create tables  \n",
    "Create tables referring to the spreadsheets in Assignments folder for columns names   \n",
    "- 'Books' using bookset.xlsx   \n",
    "- 'Users' using userset.xlsx   \n",
    "- 'Ratings' using ratingset.xlsx  "
   ]
  },
  {
   "cell_type": "code",
   "execution_count": 4,
   "id": "1a31a315-f839-4990-a505-5672cdce0ba7",
   "metadata": {},
   "outputs": [],
   "source": [
    "df1 = pd.read_excel(\"G:/.shortcut-targets-by-id/1aBWQaFQhja65Ljp3SLszLrSLfIbp0hjJ/DBMS_Course/Assignments/bookset.xlsx\")\n",
    "df2 = pd.read_excel(\"G:/.shortcut-targets-by-id/1aBWQaFQhja65Ljp3SLszLrSLfIbp0hjJ/DBMS_Course/Assignments/userset.xlsx\")\n",
    "df3 = pd.read_excel(\"G:/.shortcut-targets-by-id/1aBWQaFQhja65Ljp3SLszLrSLfIbp0hjJ/DBMS_Course/Assignments/ratingset.xlsx\")"
   ]
  },
  {
   "cell_type": "code",
   "execution_count": 5,
   "id": "227b1c4c",
   "metadata": {},
   "outputs": [
    {
     "data": {
      "text/plain": [
       "5"
      ]
     },
     "execution_count": 5,
     "metadata": {},
     "output_type": "execute_result"
    }
   ],
   "source": [
    "df1.to_sql('books', con, index = False)\n",
    "df2.to_sql('users', con, index = False)\n",
    "df3.to_sql('ratings', con, index = False)"
   ]
  },
  {
   "cell_type": "markdown",
   "id": "bfdf9e66-f9c4-46f1-bc59-58808074f0b9",
   "metadata": {},
   "source": [
    "Verify"
   ]
  },
  {
   "cell_type": "code",
   "execution_count": 6,
   "id": "b97bd92a-3fd8-4ae3-896e-76e2fe83d406",
   "metadata": {},
   "outputs": [
    {
     "data": {
      "text/plain": [
       "[(195153448,\n",
       "  'Classical Mythology',\n",
       "  'Mark P. O. Morford',\n",
       "  2002,\n",
       "  'Oxford University Press'),\n",
       " (1841721522,\n",
       "  'New Vegetarian: Bold and Beautiful Recipes for Every Occasion',\n",
       "  'Celia Brooks Brown',\n",
       "  2001,\n",
       "  'Ryland Peters and  Small Ltd'),\n",
       " (375759778,\n",
       "  'Prague : A Novel',\n",
       "  'ARTHUR PHILLIPS',\n",
       "  2003,\n",
       "  'Random House Trade Paperbacks'),\n",
       " (425163091,\n",
       "  'Chocolate Jesus',\n",
       "  'Stephan Jaramillo',\n",
       "  1998,\n",
       "  'Berkley Publishing Group')]"
      ]
     },
     "execution_count": 6,
     "metadata": {},
     "output_type": "execute_result"
    }
   ],
   "source": [
    "con.execute(\"select * from books\").fetchall()"
   ]
  },
  {
   "cell_type": "code",
   "execution_count": 7,
   "id": "d8d57f19",
   "metadata": {},
   "outputs": [
    {
     "data": {
      "text/plain": [
       "[(2, 'stockton, california, usa', 18),\n",
       " (4, 'porto, v.n.gaia, portugal', 17),\n",
       " (6, 'santa monica, california, usa', 61),\n",
       " (10, 'albacete, wisconsin, spain', 26),\n",
       " (11, 'melbourne, victoria, australia', 14),\n",
       " (13, 'barcelona, barcelona, spain', 26),\n",
       " (18, 'rio de janeiro, rio de janeiro, brazil', 25),\n",
       " (19, 'weston, ,', 14),\n",
       " (20, 'langhorne, pennsylvania, usa', 19)]"
      ]
     },
     "execution_count": 7,
     "metadata": {},
     "output_type": "execute_result"
    }
   ],
   "source": [
    "con.execute(\"select * from users\").fetchall()"
   ]
  },
  {
   "cell_type": "code",
   "execution_count": 8,
   "id": "ed8c81d0",
   "metadata": {},
   "outputs": [
    {
     "data": {
      "text/plain": [
       "[(2, 195153448, 0),\n",
       " (10, 1841721522, 0),\n",
       " (10, 8477024456, 6),\n",
       " (19, 375759778, 7),\n",
       " (20, 425163091, 0)]"
      ]
     },
     "execution_count": 8,
     "metadata": {},
     "output_type": "execute_result"
    }
   ],
   "source": [
    "con.execute(\"select * from ratings\").fetchall()"
   ]
  },
  {
   "cell_type": "markdown",
   "id": "0fe5a479-45be-4913-8006-7464882229fa",
   "metadata": {},
   "source": [
    "##### Insert Data  \n",
    "  \n",
    "1. Insert a row each with con.execute.   \n",
    "\tVerify   \n",
    "2. Delete these rows from the tables.   \n",
    "    Verify   \n",
    "3. Insert all the rows in each of the tables using con.executemany    \n",
    "\tVerify  \n",
    "4. Delete the rows from all the tables. \t   \n",
    "\tVerify    \n",
    "5. Create one text file with script to insert every row\tin the three tables.   \n",
    "6. Using one con.executescript, insert rows into all the three tables    \n",
    "\tVerify  "
   ]
  },
  {
   "cell_type": "code",
   "execution_count": 9,
   "id": "64ece1c0",
   "metadata": {},
   "outputs": [],
   "source": [
    "con.close()"
   ]
  },
  {
   "cell_type": "code",
   "execution_count": null,
   "id": "2e602ddc",
   "metadata": {},
   "outputs": [],
   "source": []
  }
 ],
 "metadata": {
  "kernelspec": {
   "display_name": "Python 3 (ipykernel)",
   "language": "python",
   "name": "python3"
  },
  "language_info": {
   "codemirror_mode": {
    "name": "ipython",
    "version": 3
   },
   "file_extension": ".py",
   "mimetype": "text/x-python",
   "name": "python",
   "nbconvert_exporter": "python",
   "pygments_lexer": "ipython3",
   "version": "3.11.3"
  }
 },
 "nbformat": 4,
 "nbformat_minor": 5
}
