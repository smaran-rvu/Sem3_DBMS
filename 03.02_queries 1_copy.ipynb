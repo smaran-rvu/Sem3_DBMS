{
 "cells": [
  {
   "cell_type": "markdown",
   "id": "3e7d508d-6640-462a-8833-a5d09a72b898",
   "metadata": {},
   "source": [
    "#### sqlite3 API   \n",
    "1. sqlite3.**connect**(database [,timeout, other optional arguments])  \n",
    "    :memory: option\n",
    "2. connection.**cursor**([cursorClass])  \n",
    "3. cursor.**execute**(sql [, optional parameters])   \n",
    "    E.g., cursor.execute(\"insert into people values (?, ?)\", (name, age))   \n",
    "4. connection.execute(sql [, optional parameters])    \n",
    "    creates its own intermediate cursor.  \n",
    "5. cursor.**executemany**(sql, seq_of_parameters)   \n",
    "    connection.executemany(sql[, parameters])   \n",
    "6. cursor.**executescript**(sql_script)   \n",
    "    connection.executescript(sql_script)  \n",
    "7. connection.**total_changes**()  \n",
    "    total rows modified, inserted, or deleted since the database connection was opened.  \n",
    "8. connection.**commit**()   \n",
    "9. connection.**rollback**()  \n",
    "    roll back changes to the database since the last call to commit().\n",
    "10. connection.**close**()  \n",
    "    closing without commit(), **changes will be lost**.\n",
    "11. cursor.**fetchone**()  \n",
    "    fetch the next row of a query result set.\n",
    "12. cursor.**fetchmany**([size = cursor.arraysize])  \n",
    "    tries to fetch as many rows as indicated by the size parameter.\n",
    "13. cursor.**fetchall**()  \n",
    "    fetch all the remaining rows"
   ]
  },
  {
   "cell_type": "markdown",
   "id": "2623b63c-81aa-4d65-b56b-52ad253efc30",
   "metadata": {},
   "source": [
    "##### Imposter table   \n",
    "is attached to b-tree as an index.   \n",
    "It allows the content of an index to be queried or modified as if the index were an ordinary table.  \n",
    "\n",
    "Imposter tables are intended for power analysis and debugging only.  \n",
    "They are for experts only.  \n",
    "Improper use of imposter tables can cause index corruption.   \n",
    "\n",
    "The root page number for any index or table can be found by querying the \"rootpage\" column of the sqlite_schema table.  "
   ]
  },
  {
   "cell_type": "code",
   "execution_count": 1,
   "id": "158005fb-722c-4b68-a170-93a945cf0457",
   "metadata": {},
   "outputs": [],
   "source": [
    "import pandas as pd\n",
    "import sqlite3 as lite\n",
    "import re\n",
    "import numpy \n",
    "\n",
    "from IPython.core.interactiveshell import InteractiveShell\n",
    "InteractiveShell.ast_node_interactivity = \"all\""
   ]
  },
  {
   "cell_type": "markdown",
   "id": "29b5fe00-3af0-40db-ab35-dd0f73f02f85",
   "metadata": {},
   "source": [
    "##### Database structure and contents    \n",
    "```\n",
    "sqlite_master (\n",
    "    type text,         -- eneity type\n",
    "    name text,         -- entity name \n",
    "    tbl_name text,     -- associated table\n",
    "    rootpage integer,  -- page in the B-Tree of data \n",
    "    sql text           -- table schema \n",
    ");\n",
    "```"
   ]
  },
  {
   "cell_type": "code",
   "execution_count": 3,
   "id": "ca572230-31d6-4f2a-9f1a-ea85690fcdff",
   "metadata": {},
   "outputs": [
    {
     "name": "stdout",
     "output_type": "stream",
     "text": [
      "\n",
      "type,   name,  table-name, schema\n",
      "\n",
      "('table', 'Students', 'Students')\n",
      "CREATE TABLE \"Students\" (\n",
      "\"USN\" TEXT,\n",
      "  \"Name\" TEXT,\n",
      "  \"Email\" TEXT,\n",
      "  \"Section\" TEXT,\n",
      "  \"Sex\" TEXT,\n",
      "  \"DoB\" TEXT,\n",
      "  \"Height_cm\" INTEGER,\n",
      "  \"Weight_Kg\" INTEGER,\n",
      "  \"Home_State\" TEXT,\n",
      "  \"Home_Town\" TEXT,\n",
      "  \"Mother_Tongue\" TEXT,\n",
      "  \"Elective\" TEXT,\n",
      "  \"Clubs\" TEXT\n",
      ")\n",
      "\n"
     ]
    }
   ],
   "source": [
    "with lite.connect('../Databases/BTech22.sqlite') as con:\n",
    "    query = \"SELECT * FROM sqlite_master\"\n",
    "    result = (list(con.execute(query).fetchall()))  \n",
    "\n",
    "print(\"\\ntype,   name,  table-name, schema\\n\")    \n",
    "for r in result:\n",
    "    print(f\"{r[:3]}\\n{r[4]}\\n\")"
   ]
  },
  {
   "cell_type": "markdown",
   "id": "c1139bb4-0aa0-4fe5-b487-e26eec88a39d",
   "metadata": {},
   "source": [
    "---\n",
    "#### Basic Queries  \n",
    "1. On 25 Apr 2023, CEO-KA released AC-wise count of voters. /Databases/KA_2305_VoterCounts.csv is extracted from the PDF document.  \n",
    "2. Create a database named 'Elections_2023.sqlite' and import the voter counts document.  "
   ]
  },
  {
   "cell_type": "markdown",
   "id": "4df518c6-3b7d-4fe4-a953-8576a1e899a8",
   "metadata": {},
   "source": [
    "##### Create table  "
   ]
  },
  {
   "cell_type": "code",
   "execution_count": 4,
   "id": "b1715a00-d4fa-4b83-beb9-04e4ad3527a6",
   "metadata": {},
   "outputs": [
    {
     "data": {
      "text/plain": [
       "<sqlite3.Cursor at 0x1bceaa52f40>"
      ]
     },
     "execution_count": 4,
     "metadata": {},
     "output_type": "execute_result"
    }
   ],
   "source": [
    "sql = \"\"\"CREATE TABLE IF NOT EXISTS VoterCounts \n",
    "         (District Text, \n",
    "          AC_Num Integer, \n",
    "          AC_Name Text, \n",
    "          Male Integer, \n",
    "          Female Integer, \n",
    "          Others Integer, \n",
    "          Total Integer\n",
    "         );\n",
    "\"\"\"\n",
    "with lite.connect('../Databases/Elections_2023.sqlite') as con:\n",
    "    con.execute(sql)\n",
    "    con.commit()"
   ]
  },
  {
   "cell_type": "markdown",
   "id": "6e3aec16-150c-4beb-816b-36ed3a56e591",
   "metadata": {},
   "source": [
    "##### Verify  "
   ]
  },
  {
   "cell_type": "code",
   "execution_count": 5,
   "id": "048b69f0-576e-49c8-835b-f5c1264c0b15",
   "metadata": {},
   "outputs": [
    {
     "data": {
      "text/plain": [
       "[('VoterCounts',)]"
      ]
     },
     "execution_count": 5,
     "metadata": {},
     "output_type": "execute_result"
    }
   ],
   "source": [
    "con =  lite.connect('../Databases/Elections_2023.sqlite')\n",
    "sql = \"SELECT name from sqlite_master WHERE type='table'\"\n",
    "list(con.execute(sql))  "
   ]
  },
  {
   "cell_type": "code",
   "execution_count": 6,
   "id": "7024381c-7164-4ecd-8366-676f02591221",
   "metadata": {},
   "outputs": [
    {
     "data": {
      "text/plain": [
       "[(0, 'District', 'TEXT', 0, None, 0),\n",
       " (1, 'AC_Num', 'INTEGER', 0, None, 0),\n",
       " (2, 'AC_Name', 'TEXT', 0, None, 0),\n",
       " (3, 'Male', 'INTEGER', 0, None, 0),\n",
       " (4, 'Female', 'INTEGER', 0, None, 0),\n",
       " (5, 'Others', 'INTEGER', 0, None, 0),\n",
       " (6, 'Total', 'INTEGER', 0, None, 0)]"
      ]
     },
     "execution_count": 6,
     "metadata": {},
     "output_type": "execute_result"
    }
   ],
   "source": [
    "sql = \"Pragma table_info(VoterCounts)\"\n",
    "list(con.execute(sql)) "
   ]
  },
  {
   "cell_type": "code",
   "execution_count": 13,
   "id": "85b590f9-789e-489a-81d3-d6ea51e4ba7b",
   "metadata": {
    "tags": []
   },
   "outputs": [
    {
     "name": "stdout",
     "output_type": "stream",
     "text": [
      "Number of Constituencies: (224,)\n"
     ]
    }
   ],
   "source": [
    "with lite.connect('../Databases/Elections_2023.sqlite') as con:\n",
    "    sql = \"SELECT COUNT(*) FROM VoterCounts\"\n",
    "    # print(f\"Number of Constituencies: {con.execute(sql).fetchone()[0]}\")   \n",
    "    print(f\"Number of Constituencies: {con.execute(sql).fetchone()}\")   "
   ]
  },
  {
   "cell_type": "markdown",
   "id": "8fdcd219-6271-4ffd-9a0d-cfe1a0283bb0",
   "metadata": {},
   "source": [
    "##### Delete all rows   \n",
    "- commit after the changes   \n",
    "- vacuum to release unused space   \n",
    "- TRUNCATE in some other RDBMS   \n",
    "\n",
    "**check** the row count "
   ]
  },
  {
   "cell_type": "code",
   "execution_count": 9,
   "id": "e95667ed-d702-44ba-87f6-8627731c46dc",
   "metadata": {
    "tags": []
   },
   "outputs": [
    {
     "data": {
      "text/plain": [
       "<sqlite3.Cursor at 0x1bceaa533c0>"
      ]
     },
     "execution_count": 9,
     "metadata": {},
     "output_type": "execute_result"
    },
    {
     "data": {
      "text/plain": [
       "<sqlite3.Cursor at 0x1bceaa608c0>"
      ]
     },
     "execution_count": 9,
     "metadata": {},
     "output_type": "execute_result"
    }
   ],
   "source": [
    "with lite.connect('../Databases/Elections_2023.sqlite') as con:\n",
    "    con.execute(\"DELETE FROM VoterCounts\")\n",
    "    con.commit()\n",
    "    con.execute(\"VACUUM\")"
   ]
  },
  {
   "cell_type": "code",
   "execution_count": 11,
   "id": "57eaaedd-2cee-412e-8a5a-be1c8ea0d65b",
   "metadata": {},
   "outputs": [
    {
     "name": "stdout",
     "output_type": "stream",
     "text": [
      "\n",
      "rows and columns: (224, 7)\n",
      "Sample:\n"
     ]
    },
    {
     "data": {
      "text/plain": [
       "[['BELGAUM', '1', 'Nippani', '113856', '111823', '9', '225688'],\n",
       " ['BELGAUM', '2', 'Chikkodi-Sadalga', '112437', '111388', '9', '223834'],\n",
       " ['BELGAUM', '3', 'Athani', '116641', '111499', '4', '228144']]"
      ]
     },
     "execution_count": 11,
     "metadata": {},
     "output_type": "execute_result"
    }
   ],
   "source": [
    "import csv\n",
    "\n",
    "file = open('../Databases/KA_2305_VoterCounts.csv')\n",
    "contents = list(csv.reader(file))\n",
    "print(f\"\\nrows and columns: {numpy.shape(contents)}\\nSample:\")\n",
    "list(contents)[:3]"
   ]
  },
  {
   "cell_type": "code",
   "execution_count": 12,
   "id": "9d031eb7-e43a-47ec-8f02-e43d941334d2",
   "metadata": {},
   "outputs": [
    {
     "data": {
      "text/plain": [
       "<sqlite3.Cursor at 0x1bceaa531c0>"
      ]
     },
     "execution_count": 12,
     "metadata": {},
     "output_type": "execute_result"
    }
   ],
   "source": [
    "insert_records = \"\"\"INSERT INTO \n",
    "                    VoterCounts(District, AC_Num, AC_Name, Male, Female, Others, Total) \n",
    "                    VALUES(?, ?, ?, ?, ?, ?, ?)\"\"\"\n",
    "\n",
    "with lite.connect('../Databases/Elections_2023.sqlite') as con:\n",
    "    con.executemany(insert_records, contents)\n",
    "    con.commit()"
   ]
  },
  {
   "cell_type": "code",
   "execution_count": 14,
   "id": "34ef1d50-2e89-41b9-99b0-6ea689a82884",
   "metadata": {
    "tags": []
   },
   "outputs": [],
   "source": [
    "con.close()"
   ]
  },
  {
   "cell_type": "markdown",
   "id": "9a984616-4e67-4074-ad46-4ac1bc06aad5",
   "metadata": {},
   "source": [
    "---  \n",
    "### Queries    \n",
    "##### Row counts   "
   ]
  },
  {
   "cell_type": "code",
   "execution_count": 35,
   "id": "a4a54a23-e81d-47da-b85f-0cb0b2f7f755",
   "metadata": {},
   "outputs": [
    {
     "name": "stdout",
     "output_type": "stream",
     "text": [
      "Total Rows: 224\n"
     ]
    }
   ],
   "source": [
    "sql = \"SELECT COUNT(*) FROM VoterCounts\"\n",
    "print(f\"Total Rows: {list(con.execute(sql))[0][0]}\")"
   ]
  },
  {
   "cell_type": "code",
   "execution_count": null,
   "id": "31223be9-c7e3-4ae8-83e2-4a3792a6c7b3",
   "metadata": {},
   "outputs": [],
   "source": []
  }
 ],
 "metadata": {
  "kernelspec": {
   "display_name": "Python 3 (ipykernel)",
   "language": "python",
   "name": "python3"
  },
  "language_info": {
   "codemirror_mode": {
    "name": "ipython",
    "version": 3
   },
   "file_extension": ".py",
   "mimetype": "text/x-python",
   "name": "python",
   "nbconvert_exporter": "python",
   "pygments_lexer": "ipython3",
   "version": "3.11.4"
  }
 },
 "nbformat": 4,
 "nbformat_minor": 5
}
